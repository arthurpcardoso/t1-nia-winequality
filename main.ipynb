{
  "cells": [
    {
      "cell_type": "markdown",
      "id": "c619f2c7",
      "metadata": {
        "id": "c619f2c7"
      },
      "source": [
        "# Predição da Qualidade do Vinho\n",
        "\n",
        "## Análise de Dados e Modelagem com PyTorch e Scikit-Learn\n",
        "\n",
        "Arthur Cardoso 211038191\n",
        "Artur Padovesi 211038208"
      ]
    },
    {
      "cell_type": "code",
      "execution_count": 199,
      "id": "9d24ad22",
      "metadata": {
        "id": "9d24ad22"
      },
      "outputs": [],
      "source": [
        "import pandas as pd\n",
        "import torch\n",
        "import torch.nn as nn\n",
        "import torch.optim as optim\n",
        "import numpy as np\n",
        "from sklearn.model_selection import train_test_split\n",
        "import matplotlib.pyplot as plt\n",
        "from sklearn.preprocessing import MinMaxScaler, LabelEncoder\n",
        "from sklearn.linear_model import LinearRegression\n",
        "from sklearn.metrics import mean_squared_error, r2_score\n",
        "from torch.utils.data import DataLoader, TensorDataset\n"
      ]
    },
    {
      "cell_type": "code",
      "execution_count": 200,
      "id": "ea596521",
      "metadata": {
        "colab": {
          "base_uri": "https://localhost:8080/",
          "height": 441
        },
        "id": "ea596521",
        "outputId": "a87df7b4-4fe1-41c0-ef8f-91b8cd77926b"
      },
      "outputs": [
        {
          "output_type": "execute_result",
          "data": {
            "text/plain": [
              "       type  fixed acidity  volatile acidity  citric acid  residual sugar  \\\n",
              "0     white            7.0             0.270         0.36            20.7   \n",
              "1     white            6.3             0.300         0.34             1.6   \n",
              "2     white            8.1             0.280         0.40             6.9   \n",
              "3     white            7.2             0.230         0.32             8.5   \n",
              "4     white            7.2             0.230         0.32             8.5   \n",
              "...     ...            ...               ...          ...             ...   \n",
              "6492    red            6.2             0.600         0.08             2.0   \n",
              "6493    red            5.9             0.550         0.10             2.2   \n",
              "6494    red            6.3             0.510         0.13             2.3   \n",
              "6495    red            5.9             0.645         0.12             2.0   \n",
              "6496    red            6.0             0.310         0.47             3.6   \n",
              "\n",
              "      chlorides  free sulfur dioxide  total sulfur dioxide  density    pH  \\\n",
              "0         0.045                 45.0                 170.0  1.00100  3.00   \n",
              "1         0.049                 14.0                 132.0  0.99400  3.30   \n",
              "2         0.050                 30.0                  97.0  0.99510  3.26   \n",
              "3         0.058                 47.0                 186.0  0.99560  3.19   \n",
              "4         0.058                 47.0                 186.0  0.99560  3.19   \n",
              "...         ...                  ...                   ...      ...   ...   \n",
              "6492      0.090                 32.0                  44.0  0.99490  3.45   \n",
              "6493      0.062                 39.0                  51.0  0.99512  3.52   \n",
              "6494      0.076                 29.0                  40.0  0.99574  3.42   \n",
              "6495      0.075                 32.0                  44.0  0.99547  3.57   \n",
              "6496      0.067                 18.0                  42.0  0.99549  3.39   \n",
              "\n",
              "      sulphates  alcohol  quality  \n",
              "0          0.45      8.8        6  \n",
              "1          0.49      9.5        6  \n",
              "2          0.44     10.1        6  \n",
              "3          0.40      9.9        6  \n",
              "4          0.40      9.9        6  \n",
              "...         ...      ...      ...  \n",
              "6492       0.58     10.5        5  \n",
              "6493        NaN     11.2        6  \n",
              "6494       0.75     11.0        6  \n",
              "6495       0.71     10.2        5  \n",
              "6496       0.66     11.0        6  \n",
              "\n",
              "[6497 rows x 13 columns]"
            ],
            "text/html": [
              "\n",
              "  <div id=\"df-edd18b51-4856-40de-9bdb-8af2c7e268a1\" class=\"colab-df-container\">\n",
              "    <div>\n",
              "<style scoped>\n",
              "    .dataframe tbody tr th:only-of-type {\n",
              "        vertical-align: middle;\n",
              "    }\n",
              "\n",
              "    .dataframe tbody tr th {\n",
              "        vertical-align: top;\n",
              "    }\n",
              "\n",
              "    .dataframe thead th {\n",
              "        text-align: right;\n",
              "    }\n",
              "</style>\n",
              "<table border=\"1\" class=\"dataframe\">\n",
              "  <thead>\n",
              "    <tr style=\"text-align: right;\">\n",
              "      <th></th>\n",
              "      <th>type</th>\n",
              "      <th>fixed acidity</th>\n",
              "      <th>volatile acidity</th>\n",
              "      <th>citric acid</th>\n",
              "      <th>residual sugar</th>\n",
              "      <th>chlorides</th>\n",
              "      <th>free sulfur dioxide</th>\n",
              "      <th>total sulfur dioxide</th>\n",
              "      <th>density</th>\n",
              "      <th>pH</th>\n",
              "      <th>sulphates</th>\n",
              "      <th>alcohol</th>\n",
              "      <th>quality</th>\n",
              "    </tr>\n",
              "  </thead>\n",
              "  <tbody>\n",
              "    <tr>\n",
              "      <th>0</th>\n",
              "      <td>white</td>\n",
              "      <td>7.0</td>\n",
              "      <td>0.270</td>\n",
              "      <td>0.36</td>\n",
              "      <td>20.7</td>\n",
              "      <td>0.045</td>\n",
              "      <td>45.0</td>\n",
              "      <td>170.0</td>\n",
              "      <td>1.00100</td>\n",
              "      <td>3.00</td>\n",
              "      <td>0.45</td>\n",
              "      <td>8.8</td>\n",
              "      <td>6</td>\n",
              "    </tr>\n",
              "    <tr>\n",
              "      <th>1</th>\n",
              "      <td>white</td>\n",
              "      <td>6.3</td>\n",
              "      <td>0.300</td>\n",
              "      <td>0.34</td>\n",
              "      <td>1.6</td>\n",
              "      <td>0.049</td>\n",
              "      <td>14.0</td>\n",
              "      <td>132.0</td>\n",
              "      <td>0.99400</td>\n",
              "      <td>3.30</td>\n",
              "      <td>0.49</td>\n",
              "      <td>9.5</td>\n",
              "      <td>6</td>\n",
              "    </tr>\n",
              "    <tr>\n",
              "      <th>2</th>\n",
              "      <td>white</td>\n",
              "      <td>8.1</td>\n",
              "      <td>0.280</td>\n",
              "      <td>0.40</td>\n",
              "      <td>6.9</td>\n",
              "      <td>0.050</td>\n",
              "      <td>30.0</td>\n",
              "      <td>97.0</td>\n",
              "      <td>0.99510</td>\n",
              "      <td>3.26</td>\n",
              "      <td>0.44</td>\n",
              "      <td>10.1</td>\n",
              "      <td>6</td>\n",
              "    </tr>\n",
              "    <tr>\n",
              "      <th>3</th>\n",
              "      <td>white</td>\n",
              "      <td>7.2</td>\n",
              "      <td>0.230</td>\n",
              "      <td>0.32</td>\n",
              "      <td>8.5</td>\n",
              "      <td>0.058</td>\n",
              "      <td>47.0</td>\n",
              "      <td>186.0</td>\n",
              "      <td>0.99560</td>\n",
              "      <td>3.19</td>\n",
              "      <td>0.40</td>\n",
              "      <td>9.9</td>\n",
              "      <td>6</td>\n",
              "    </tr>\n",
              "    <tr>\n",
              "      <th>4</th>\n",
              "      <td>white</td>\n",
              "      <td>7.2</td>\n",
              "      <td>0.230</td>\n",
              "      <td>0.32</td>\n",
              "      <td>8.5</td>\n",
              "      <td>0.058</td>\n",
              "      <td>47.0</td>\n",
              "      <td>186.0</td>\n",
              "      <td>0.99560</td>\n",
              "      <td>3.19</td>\n",
              "      <td>0.40</td>\n",
              "      <td>9.9</td>\n",
              "      <td>6</td>\n",
              "    </tr>\n",
              "    <tr>\n",
              "      <th>...</th>\n",
              "      <td>...</td>\n",
              "      <td>...</td>\n",
              "      <td>...</td>\n",
              "      <td>...</td>\n",
              "      <td>...</td>\n",
              "      <td>...</td>\n",
              "      <td>...</td>\n",
              "      <td>...</td>\n",
              "      <td>...</td>\n",
              "      <td>...</td>\n",
              "      <td>...</td>\n",
              "      <td>...</td>\n",
              "      <td>...</td>\n",
              "    </tr>\n",
              "    <tr>\n",
              "      <th>6492</th>\n",
              "      <td>red</td>\n",
              "      <td>6.2</td>\n",
              "      <td>0.600</td>\n",
              "      <td>0.08</td>\n",
              "      <td>2.0</td>\n",
              "      <td>0.090</td>\n",
              "      <td>32.0</td>\n",
              "      <td>44.0</td>\n",
              "      <td>0.99490</td>\n",
              "      <td>3.45</td>\n",
              "      <td>0.58</td>\n",
              "      <td>10.5</td>\n",
              "      <td>5</td>\n",
              "    </tr>\n",
              "    <tr>\n",
              "      <th>6493</th>\n",
              "      <td>red</td>\n",
              "      <td>5.9</td>\n",
              "      <td>0.550</td>\n",
              "      <td>0.10</td>\n",
              "      <td>2.2</td>\n",
              "      <td>0.062</td>\n",
              "      <td>39.0</td>\n",
              "      <td>51.0</td>\n",
              "      <td>0.99512</td>\n",
              "      <td>3.52</td>\n",
              "      <td>NaN</td>\n",
              "      <td>11.2</td>\n",
              "      <td>6</td>\n",
              "    </tr>\n",
              "    <tr>\n",
              "      <th>6494</th>\n",
              "      <td>red</td>\n",
              "      <td>6.3</td>\n",
              "      <td>0.510</td>\n",
              "      <td>0.13</td>\n",
              "      <td>2.3</td>\n",
              "      <td>0.076</td>\n",
              "      <td>29.0</td>\n",
              "      <td>40.0</td>\n",
              "      <td>0.99574</td>\n",
              "      <td>3.42</td>\n",
              "      <td>0.75</td>\n",
              "      <td>11.0</td>\n",
              "      <td>6</td>\n",
              "    </tr>\n",
              "    <tr>\n",
              "      <th>6495</th>\n",
              "      <td>red</td>\n",
              "      <td>5.9</td>\n",
              "      <td>0.645</td>\n",
              "      <td>0.12</td>\n",
              "      <td>2.0</td>\n",
              "      <td>0.075</td>\n",
              "      <td>32.0</td>\n",
              "      <td>44.0</td>\n",
              "      <td>0.99547</td>\n",
              "      <td>3.57</td>\n",
              "      <td>0.71</td>\n",
              "      <td>10.2</td>\n",
              "      <td>5</td>\n",
              "    </tr>\n",
              "    <tr>\n",
              "      <th>6496</th>\n",
              "      <td>red</td>\n",
              "      <td>6.0</td>\n",
              "      <td>0.310</td>\n",
              "      <td>0.47</td>\n",
              "      <td>3.6</td>\n",
              "      <td>0.067</td>\n",
              "      <td>18.0</td>\n",
              "      <td>42.0</td>\n",
              "      <td>0.99549</td>\n",
              "      <td>3.39</td>\n",
              "      <td>0.66</td>\n",
              "      <td>11.0</td>\n",
              "      <td>6</td>\n",
              "    </tr>\n",
              "  </tbody>\n",
              "</table>\n",
              "<p>6497 rows × 13 columns</p>\n",
              "</div>\n",
              "    <div class=\"colab-df-buttons\">\n",
              "\n",
              "  <div class=\"colab-df-container\">\n",
              "    <button class=\"colab-df-convert\" onclick=\"convertToInteractive('df-edd18b51-4856-40de-9bdb-8af2c7e268a1')\"\n",
              "            title=\"Convert this dataframe to an interactive table.\"\n",
              "            style=\"display:none;\">\n",
              "\n",
              "  <svg xmlns=\"http://www.w3.org/2000/svg\" height=\"24px\" viewBox=\"0 -960 960 960\">\n",
              "    <path d=\"M120-120v-720h720v720H120Zm60-500h600v-160H180v160Zm220 220h160v-160H400v160Zm0 220h160v-160H400v160ZM180-400h160v-160H180v160Zm440 0h160v-160H620v160ZM180-180h160v-160H180v160Zm440 0h160v-160H620v160Z\"/>\n",
              "  </svg>\n",
              "    </button>\n",
              "\n",
              "  <style>\n",
              "    .colab-df-container {\n",
              "      display:flex;\n",
              "      gap: 12px;\n",
              "    }\n",
              "\n",
              "    .colab-df-convert {\n",
              "      background-color: #E8F0FE;\n",
              "      border: none;\n",
              "      border-radius: 50%;\n",
              "      cursor: pointer;\n",
              "      display: none;\n",
              "      fill: #1967D2;\n",
              "      height: 32px;\n",
              "      padding: 0 0 0 0;\n",
              "      width: 32px;\n",
              "    }\n",
              "\n",
              "    .colab-df-convert:hover {\n",
              "      background-color: #E2EBFA;\n",
              "      box-shadow: 0px 1px 2px rgba(60, 64, 67, 0.3), 0px 1px 3px 1px rgba(60, 64, 67, 0.15);\n",
              "      fill: #174EA6;\n",
              "    }\n",
              "\n",
              "    .colab-df-buttons div {\n",
              "      margin-bottom: 4px;\n",
              "    }\n",
              "\n",
              "    [theme=dark] .colab-df-convert {\n",
              "      background-color: #3B4455;\n",
              "      fill: #D2E3FC;\n",
              "    }\n",
              "\n",
              "    [theme=dark] .colab-df-convert:hover {\n",
              "      background-color: #434B5C;\n",
              "      box-shadow: 0px 1px 3px 1px rgba(0, 0, 0, 0.15);\n",
              "      filter: drop-shadow(0px 1px 2px rgba(0, 0, 0, 0.3));\n",
              "      fill: #FFFFFF;\n",
              "    }\n",
              "  </style>\n",
              "\n",
              "    <script>\n",
              "      const buttonEl =\n",
              "        document.querySelector('#df-edd18b51-4856-40de-9bdb-8af2c7e268a1 button.colab-df-convert');\n",
              "      buttonEl.style.display =\n",
              "        google.colab.kernel.accessAllowed ? 'block' : 'none';\n",
              "\n",
              "      async function convertToInteractive(key) {\n",
              "        const element = document.querySelector('#df-edd18b51-4856-40de-9bdb-8af2c7e268a1');\n",
              "        const dataTable =\n",
              "          await google.colab.kernel.invokeFunction('convertToInteractive',\n",
              "                                                    [key], {});\n",
              "        if (!dataTable) return;\n",
              "\n",
              "        const docLinkHtml = 'Like what you see? Visit the ' +\n",
              "          '<a target=\"_blank\" href=https://colab.research.google.com/notebooks/data_table.ipynb>data table notebook</a>'\n",
              "          + ' to learn more about interactive tables.';\n",
              "        element.innerHTML = '';\n",
              "        dataTable['output_type'] = 'display_data';\n",
              "        await google.colab.output.renderOutput(dataTable, element);\n",
              "        const docLink = document.createElement('div');\n",
              "        docLink.innerHTML = docLinkHtml;\n",
              "        element.appendChild(docLink);\n",
              "      }\n",
              "    </script>\n",
              "  </div>\n",
              "\n",
              "\n",
              "    <div id=\"df-05f6ddf9-6072-4102-98dd-31cefd14d009\">\n",
              "      <button class=\"colab-df-quickchart\" onclick=\"quickchart('df-05f6ddf9-6072-4102-98dd-31cefd14d009')\"\n",
              "                title=\"Suggest charts\"\n",
              "                style=\"display:none;\">\n",
              "\n",
              "<svg xmlns=\"http://www.w3.org/2000/svg\" height=\"24px\"viewBox=\"0 0 24 24\"\n",
              "     width=\"24px\">\n",
              "    <g>\n",
              "        <path d=\"M19 3H5c-1.1 0-2 .9-2 2v14c0 1.1.9 2 2 2h14c1.1 0 2-.9 2-2V5c0-1.1-.9-2-2-2zM9 17H7v-7h2v7zm4 0h-2V7h2v10zm4 0h-2v-4h2v4z\"/>\n",
              "    </g>\n",
              "</svg>\n",
              "      </button>\n",
              "\n",
              "<style>\n",
              "  .colab-df-quickchart {\n",
              "      --bg-color: #E8F0FE;\n",
              "      --fill-color: #1967D2;\n",
              "      --hover-bg-color: #E2EBFA;\n",
              "      --hover-fill-color: #174EA6;\n",
              "      --disabled-fill-color: #AAA;\n",
              "      --disabled-bg-color: #DDD;\n",
              "  }\n",
              "\n",
              "  [theme=dark] .colab-df-quickchart {\n",
              "      --bg-color: #3B4455;\n",
              "      --fill-color: #D2E3FC;\n",
              "      --hover-bg-color: #434B5C;\n",
              "      --hover-fill-color: #FFFFFF;\n",
              "      --disabled-bg-color: #3B4455;\n",
              "      --disabled-fill-color: #666;\n",
              "  }\n",
              "\n",
              "  .colab-df-quickchart {\n",
              "    background-color: var(--bg-color);\n",
              "    border: none;\n",
              "    border-radius: 50%;\n",
              "    cursor: pointer;\n",
              "    display: none;\n",
              "    fill: var(--fill-color);\n",
              "    height: 32px;\n",
              "    padding: 0;\n",
              "    width: 32px;\n",
              "  }\n",
              "\n",
              "  .colab-df-quickchart:hover {\n",
              "    background-color: var(--hover-bg-color);\n",
              "    box-shadow: 0 1px 2px rgba(60, 64, 67, 0.3), 0 1px 3px 1px rgba(60, 64, 67, 0.15);\n",
              "    fill: var(--button-hover-fill-color);\n",
              "  }\n",
              "\n",
              "  .colab-df-quickchart-complete:disabled,\n",
              "  .colab-df-quickchart-complete:disabled:hover {\n",
              "    background-color: var(--disabled-bg-color);\n",
              "    fill: var(--disabled-fill-color);\n",
              "    box-shadow: none;\n",
              "  }\n",
              "\n",
              "  .colab-df-spinner {\n",
              "    border: 2px solid var(--fill-color);\n",
              "    border-color: transparent;\n",
              "    border-bottom-color: var(--fill-color);\n",
              "    animation:\n",
              "      spin 1s steps(1) infinite;\n",
              "  }\n",
              "\n",
              "  @keyframes spin {\n",
              "    0% {\n",
              "      border-color: transparent;\n",
              "      border-bottom-color: var(--fill-color);\n",
              "      border-left-color: var(--fill-color);\n",
              "    }\n",
              "    20% {\n",
              "      border-color: transparent;\n",
              "      border-left-color: var(--fill-color);\n",
              "      border-top-color: var(--fill-color);\n",
              "    }\n",
              "    30% {\n",
              "      border-color: transparent;\n",
              "      border-left-color: var(--fill-color);\n",
              "      border-top-color: var(--fill-color);\n",
              "      border-right-color: var(--fill-color);\n",
              "    }\n",
              "    40% {\n",
              "      border-color: transparent;\n",
              "      border-right-color: var(--fill-color);\n",
              "      border-top-color: var(--fill-color);\n",
              "    }\n",
              "    60% {\n",
              "      border-color: transparent;\n",
              "      border-right-color: var(--fill-color);\n",
              "    }\n",
              "    80% {\n",
              "      border-color: transparent;\n",
              "      border-right-color: var(--fill-color);\n",
              "      border-bottom-color: var(--fill-color);\n",
              "    }\n",
              "    90% {\n",
              "      border-color: transparent;\n",
              "      border-bottom-color: var(--fill-color);\n",
              "    }\n",
              "  }\n",
              "</style>\n",
              "\n",
              "      <script>\n",
              "        async function quickchart(key) {\n",
              "          const quickchartButtonEl =\n",
              "            document.querySelector('#' + key + ' button');\n",
              "          quickchartButtonEl.disabled = true;  // To prevent multiple clicks.\n",
              "          quickchartButtonEl.classList.add('colab-df-spinner');\n",
              "          try {\n",
              "            const charts = await google.colab.kernel.invokeFunction(\n",
              "                'suggestCharts', [key], {});\n",
              "          } catch (error) {\n",
              "            console.error('Error during call to suggestCharts:', error);\n",
              "          }\n",
              "          quickchartButtonEl.classList.remove('colab-df-spinner');\n",
              "          quickchartButtonEl.classList.add('colab-df-quickchart-complete');\n",
              "        }\n",
              "        (() => {\n",
              "          let quickchartButtonEl =\n",
              "            document.querySelector('#df-05f6ddf9-6072-4102-98dd-31cefd14d009 button');\n",
              "          quickchartButtonEl.style.display =\n",
              "            google.colab.kernel.accessAllowed ? 'block' : 'none';\n",
              "        })();\n",
              "      </script>\n",
              "    </div>\n",
              "\n",
              "  <div id=\"id_2629cf45-1b48-49f7-97e4-5efc5f02e10c\">\n",
              "    <style>\n",
              "      .colab-df-generate {\n",
              "        background-color: #E8F0FE;\n",
              "        border: none;\n",
              "        border-radius: 50%;\n",
              "        cursor: pointer;\n",
              "        display: none;\n",
              "        fill: #1967D2;\n",
              "        height: 32px;\n",
              "        padding: 0 0 0 0;\n",
              "        width: 32px;\n",
              "      }\n",
              "\n",
              "      .colab-df-generate:hover {\n",
              "        background-color: #E2EBFA;\n",
              "        box-shadow: 0px 1px 2px rgba(60, 64, 67, 0.3), 0px 1px 3px 1px rgba(60, 64, 67, 0.15);\n",
              "        fill: #174EA6;\n",
              "      }\n",
              "\n",
              "      [theme=dark] .colab-df-generate {\n",
              "        background-color: #3B4455;\n",
              "        fill: #D2E3FC;\n",
              "      }\n",
              "\n",
              "      [theme=dark] .colab-df-generate:hover {\n",
              "        background-color: #434B5C;\n",
              "        box-shadow: 0px 1px 3px 1px rgba(0, 0, 0, 0.15);\n",
              "        filter: drop-shadow(0px 1px 2px rgba(0, 0, 0, 0.3));\n",
              "        fill: #FFFFFF;\n",
              "      }\n",
              "    </style>\n",
              "    <button class=\"colab-df-generate\" onclick=\"generateWithVariable('data')\"\n",
              "            title=\"Generate code using this dataframe.\"\n",
              "            style=\"display:none;\">\n",
              "\n",
              "  <svg xmlns=\"http://www.w3.org/2000/svg\" height=\"24px\"viewBox=\"0 0 24 24\"\n",
              "       width=\"24px\">\n",
              "    <path d=\"M7,19H8.4L18.45,9,17,7.55,7,17.6ZM5,21V16.75L18.45,3.32a2,2,0,0,1,2.83,0l1.4,1.43a1.91,1.91,0,0,1,.58,1.4,1.91,1.91,0,0,1-.58,1.4L9.25,21ZM18.45,9,17,7.55Zm-12,3A5.31,5.31,0,0,0,4.9,8.1,5.31,5.31,0,0,0,1,6.5,5.31,5.31,0,0,0,4.9,4.9,5.31,5.31,0,0,0,6.5,1,5.31,5.31,0,0,0,8.1,4.9,5.31,5.31,0,0,0,12,6.5,5.46,5.46,0,0,0,6.5,12Z\"/>\n",
              "  </svg>\n",
              "    </button>\n",
              "    <script>\n",
              "      (() => {\n",
              "      const buttonEl =\n",
              "        document.querySelector('#id_2629cf45-1b48-49f7-97e4-5efc5f02e10c button.colab-df-generate');\n",
              "      buttonEl.style.display =\n",
              "        google.colab.kernel.accessAllowed ? 'block' : 'none';\n",
              "\n",
              "      buttonEl.onclick = () => {\n",
              "        google.colab.notebook.generateWithVariable('data');\n",
              "      }\n",
              "      })();\n",
              "    </script>\n",
              "  </div>\n",
              "\n",
              "    </div>\n",
              "  </div>\n"
            ],
            "application/vnd.google.colaboratory.intrinsic+json": {
              "type": "dataframe",
              "variable_name": "data",
              "summary": "{\n  \"name\": \"data\",\n  \"rows\": 6497,\n  \"fields\": [\n    {\n      \"column\": \"type\",\n      \"properties\": {\n        \"dtype\": \"category\",\n        \"num_unique_values\": 2,\n        \"samples\": [\n          \"red\",\n          \"white\"\n        ],\n        \"semantic_type\": \"\",\n        \"description\": \"\"\n      }\n    },\n    {\n      \"column\": \"fixed acidity\",\n      \"properties\": {\n        \"dtype\": \"number\",\n        \"std\": 1.2967498565264803,\n        \"min\": 3.8,\n        \"max\": 15.9,\n        \"num_unique_values\": 106,\n        \"samples\": [\n          14.3,\n          6.5\n        ],\n        \"semantic_type\": \"\",\n        \"description\": \"\"\n      }\n    },\n    {\n      \"column\": \"volatile acidity\",\n      \"properties\": {\n        \"dtype\": \"number\",\n        \"std\": 0.16464902864429293,\n        \"min\": 0.08,\n        \"max\": 1.58,\n        \"num_unique_values\": 187,\n        \"samples\": [\n          0.895,\n          0.655\n        ],\n        \"semantic_type\": \"\",\n        \"description\": \"\"\n      }\n    },\n    {\n      \"column\": \"citric acid\",\n      \"properties\": {\n        \"dtype\": \"number\",\n        \"std\": 0.14526480053397803,\n        \"min\": 0.0,\n        \"max\": 1.66,\n        \"num_unique_values\": 89,\n        \"samples\": [\n          0.45,\n          0.51\n        ],\n        \"semantic_type\": \"\",\n        \"description\": \"\"\n      }\n    },\n    {\n      \"column\": \"residual sugar\",\n      \"properties\": {\n        \"dtype\": \"number\",\n        \"std\": 4.758124742672707,\n        \"min\": 0.6,\n        \"max\": 65.8,\n        \"num_unique_values\": 316,\n        \"samples\": [\n          14.7,\n          4.9\n        ],\n        \"semantic_type\": \"\",\n        \"description\": \"\"\n      }\n    },\n    {\n      \"column\": \"chlorides\",\n      \"properties\": {\n        \"dtype\": \"number\",\n        \"std\": 0.03503602522758969,\n        \"min\": 0.009,\n        \"max\": 0.611,\n        \"num_unique_values\": 214,\n        \"samples\": [\n          0.046,\n          0.387\n        ],\n        \"semantic_type\": \"\",\n        \"description\": \"\"\n      }\n    },\n    {\n      \"column\": \"free sulfur dioxide\",\n      \"properties\": {\n        \"dtype\": \"number\",\n        \"std\": 17.749399772002565,\n        \"min\": 1.0,\n        \"max\": 289.0,\n        \"num_unique_values\": 135,\n        \"samples\": [\n          146.5,\n          64.5\n        ],\n        \"semantic_type\": \"\",\n        \"description\": \"\"\n      }\n    },\n    {\n      \"column\": \"total sulfur dioxide\",\n      \"properties\": {\n        \"dtype\": \"number\",\n        \"std\": 56.52185452263032,\n        \"min\": 6.0,\n        \"max\": 440.0,\n        \"num_unique_values\": 276,\n        \"samples\": [\n          158.0,\n          194.0\n        ],\n        \"semantic_type\": \"\",\n        \"description\": \"\"\n      }\n    },\n    {\n      \"column\": \"density\",\n      \"properties\": {\n        \"dtype\": \"number\",\n        \"std\": 0.002998673003719037,\n        \"min\": 0.98711,\n        \"max\": 1.03898,\n        \"num_unique_values\": 998,\n        \"samples\": [\n          0.99144,\n          0.99734\n        ],\n        \"semantic_type\": \"\",\n        \"description\": \"\"\n      }\n    },\n    {\n      \"column\": \"pH\",\n      \"properties\": {\n        \"dtype\": \"number\",\n        \"std\": 0.16074830655088293,\n        \"min\": 2.72,\n        \"max\": 4.01,\n        \"num_unique_values\": 108,\n        \"samples\": [\n          2.74,\n          3.25\n        ],\n        \"semantic_type\": \"\",\n        \"description\": \"\"\n      }\n    },\n    {\n      \"column\": \"sulphates\",\n      \"properties\": {\n        \"dtype\": \"number\",\n        \"std\": 0.14881412131628308,\n        \"min\": 0.22,\n        \"max\": 2.0,\n        \"num_unique_values\": 111,\n        \"samples\": [\n          1.08,\n          0.55\n        ],\n        \"semantic_type\": \"\",\n        \"description\": \"\"\n      }\n    },\n    {\n      \"column\": \"alcohol\",\n      \"properties\": {\n        \"dtype\": \"number\",\n        \"std\": 1.1927117488689747,\n        \"min\": 8.0,\n        \"max\": 14.9,\n        \"num_unique_values\": 111,\n        \"samples\": [\n          12.33333333,\n          11.4\n        ],\n        \"semantic_type\": \"\",\n        \"description\": \"\"\n      }\n    },\n    {\n      \"column\": \"quality\",\n      \"properties\": {\n        \"dtype\": \"number\",\n        \"std\": 0,\n        \"min\": 3,\n        \"max\": 9,\n        \"num_unique_values\": 7,\n        \"samples\": [\n          6,\n          5\n        ],\n        \"semantic_type\": \"\",\n        \"description\": \"\"\n      }\n    }\n  ]\n}"
            }
          },
          "metadata": {},
          "execution_count": 200
        }
      ],
      "source": [
        "data = pd.read_csv('winequalityN.csv')\n",
        "data"
      ]
    },
    {
      "cell_type": "markdown",
      "id": "c4776295",
      "metadata": {
        "id": "c4776295"
      },
      "source": [
        "## Início do Tratamento dos Dados\n",
        "\n",
        "Antes de prosseguir com a modelagem, é necessário realizar o tratamento dos dados para garantir que estejam prontos para análise. Na célula abaixo, realizamos a codificação da variável categórica `type` utilizando `LabelEncoder`, transformando-a em valores numéricos. Além disso, verificamos a existência de valores nulos no conjunto de dados e removemos as linhas que possuem valores faltantes, garantindo a integridade dos dados para as próximas etapas.\n"
      ]
    },
    {
      "cell_type": "code",
      "execution_count": 201,
      "id": "9cdfe355",
      "metadata": {
        "colab": {
          "base_uri": "https://localhost:8080/"
        },
        "id": "9cdfe355",
        "outputId": "01249fbd-9123-4e02-a27e-8bbe0f67d64d"
      },
      "outputs": [
        {
          "output_type": "stream",
          "name": "stdout",
          "text": [
            "type                     0\n",
            "fixed acidity           10\n",
            "volatile acidity         8\n",
            "citric acid              3\n",
            "residual sugar           2\n",
            "chlorides                2\n",
            "free sulfur dioxide      0\n",
            "total sulfur dioxide     0\n",
            "density                  0\n",
            "pH                       9\n",
            "sulphates                4\n",
            "alcohol                  0\n",
            "quality                  0\n",
            "dtype: int64\n"
          ]
        }
      ],
      "source": [
        "# Encoding type of wine\n",
        "label_encoder = LabelEncoder()\n",
        "data['type'] = label_encoder.fit_transform(data['type'])\n",
        "\n",
        "print(data.isnull().sum())\n",
        "\n",
        "# remover linhas que possuem valores faltantes\n",
        "data.dropna(inplace=True)"
      ]
    },
    {
      "cell_type": "markdown",
      "id": "a3f3b6e0",
      "metadata": {
        "id": "a3f3b6e0"
      },
      "source": [
        "## Separação e Normalização dos Dados\n",
        "\n",
        "Dividimos o conjunto de dados em três partes: treinamento, validação e teste, utilizando a função `train_test_split` do `sklearn.model_selection`. Após a separação, normalizamos as features (exceto a coluna `quality`) utilizando o `MinMaxScaler` do `sklearn.preprocessing`, garantindo que os valores estejam entre 0 e 1. Essa etapa é essencial para melhorar a performance do modelo durante o treinamento.\n"
      ]
    },
    {
      "cell_type": "code",
      "execution_count": 202,
      "id": "dfccf74c",
      "metadata": {
        "colab": {
          "base_uri": "https://localhost:8080/"
        },
        "id": "dfccf74c",
        "outputId": "d0731278-3d4f-4ff3-9a34-c5a478d55e01"
      },
      "outputs": [
        {
          "output_type": "execute_result",
          "data": {
            "text/plain": [
              "12"
            ]
          },
          "metadata": {},
          "execution_count": 202
        }
      ],
      "source": [
        "# Split the into train, validation, and test sets\n",
        "train_data, test_data = train_test_split(data, test_size=0.2, random_state=42)\n",
        "train_data, val_data = train_test_split(train_data, test_size=0.2, random_state=42)\n",
        "\n",
        "x_train, y_train = train_data.drop(columns=['quality']), train_data['quality']\n",
        "x_val, y_val = val_data.drop(columns=['quality']), val_data['quality']\n",
        "x_test, y_test = test_data.drop(columns=['quality']), test_data['quality']\n",
        "\n",
        "\n",
        "# Normalizar as features (exceto a coluna 'quality')\n",
        "scaler = MinMaxScaler()\n",
        "x_train = pd.DataFrame(scaler.fit_transform(x_train), columns=x_train.columns)\n",
        "x_val = pd.DataFrame(scaler.transform(x_val), columns=x_val.columns)\n",
        "x_test = pd.DataFrame(scaler.transform(x_test), columns=x_test.columns)\n",
        "\n",
        "\n",
        "# Convert to PyTorch tensors\n",
        "X_train, Y_train = torch.tensor(x_train.values, dtype=torch.float32), torch.tensor(y_train.values, dtype=torch.float32)\n",
        "train_ds = TensorDataset(X_train, Y_train)\n",
        "\n",
        "X_val, Y_val = torch.tensor(x_val.values, dtype=torch.float32), torch.tensor(y_val.values, dtype=torch.float32)\n",
        "val_ds = TensorDataset(X_val, Y_val)\n",
        "\n",
        "X_test, Y_test = torch.tensor(x_test.values, dtype=torch.float32), torch.tensor(y_test.values, dtype=torch.float32)\n",
        "\n",
        "batch_size = 32\n",
        "train_loader = DataLoader(train_ds, batch_size=batch_size, shuffle=True)\n",
        "val_loader = DataLoader(val_ds, batch_size=batch_size, shuffle=False)\n",
        "\n",
        "n_features = X_val.shape[1]\n",
        "n_features"
      ]
    },
    {
      "cell_type": "markdown",
      "id": "047df765",
      "metadata": {
        "id": "047df765"
      },
      "source": [
        "## Treinamento do Modelo com a Classe `LinearRegression`\n",
        "\n",
        "Nesta etapa, treinamos um modelo de regressão linear simples utilizando a classe `LinearRegression`. O modelo possui uma camada linear com pesos e bias inicializados aleatoriamente. O treinamento é realizado com o otimizador SGD e a função de perda L1, ajustando os pesos para minimizar o erro entre as predições e os valores reais. As perdas de treinamento e validação são registradas para análise.\n"
      ]
    },
    {
      "cell_type": "code",
      "execution_count": 203,
      "id": "5357df41",
      "metadata": {
        "id": "5357df41"
      },
      "outputs": [],
      "source": [
        "class LinearRegression(nn.Module):\n",
        "    def __init__(self):\n",
        "        super().__init__()\n",
        "        self.linear = nn.Linear(in_features=n_features, out_features=1)  # 'n_features' entradas, 1 saída\n",
        "        nn.init.normal_(self.linear.weight, mean=0, std=0.01)\n",
        "        nn.init.zeros_(self.linear.bias)\n",
        "\n",
        "    def forward(self, X):\n",
        "        return self.linear(X)\n",
        "\n",
        "def get_loss_fn():\n",
        "    # return nn.L1Loss()\n",
        "    return nn.MSELoss()\n",
        "\n",
        "def get_optimizer(model, lr):\n",
        "    return optim.SGD(model.parameters(), lr=lr)"
      ]
    },
    {
      "cell_type": "code",
      "execution_count": 204,
      "id": "b44da2f0",
      "metadata": {
        "colab": {
          "base_uri": "https://localhost:8080/"
        },
        "id": "b44da2f0",
        "outputId": "38af85af-9b4a-48ba-c95b-762c053a3f00"
      },
      "outputs": [
        {
          "output_type": "stream",
          "name": "stderr",
          "text": [
            "/usr/local/lib/python3.11/dist-packages/torch/nn/modules/loss.py:610: UserWarning: Using a target size (torch.Size([32])) that is different to the input size (torch.Size([32, 1])). This will likely lead to incorrect results due to broadcasting. Please ensure they have the same size.\n",
            "  return F.mse_loss(input, target, reduction=self.reduction)\n",
            "/usr/local/lib/python3.11/dist-packages/torch/nn/modules/loss.py:610: UserWarning: Using a target size (torch.Size([8])) that is different to the input size (torch.Size([8, 1])). This will likely lead to incorrect results due to broadcasting. Please ensure they have the same size.\n",
            "  return F.mse_loss(input, target, reduction=self.reduction)\n"
          ]
        }
      ],
      "source": [
        "model = LinearRegression()\n",
        "loss_fn = get_loss_fn()\n",
        "optimizer = get_optimizer(model, lr=1e-3)\n",
        "\n",
        "num_epochs = 100\n",
        "\n",
        "val_losses = []\n",
        "train_losses = []\n",
        "\n",
        "for epoch in range(num_epochs):\n",
        "    model.train()\n",
        "    for X_batch, Y_batch in train_loader:\n",
        "        preds = model(X_batch)\n",
        "        loss = loss_fn(preds, Y_batch)\n",
        "\n",
        "        optimizer.zero_grad()\n",
        "        loss.backward()\n",
        "        optimizer.step()\n",
        "\n",
        "    model.eval()\n",
        "    with torch.no_grad():\n",
        "        val_loss = loss_fn(model(X_val), Y_val.reshape(len(Y_val), 1))\n",
        "        train_loss = loss_fn(model(X_train), Y_train.reshape(len(Y_train), 1))\n",
        "    val_losses.append(val_loss)\n",
        "    train_losses.append(train_loss)\n",
        "        # val_loss = sum(loss_fn(model(X_val), torch.tensor(y_val))) / len(y_val)\n",
        "    # print(f\"Epoch {epoch+1}, Validation Loss: {val_loss:.4f}\")"
      ]
    },
    {
      "cell_type": "code",
      "execution_count": 205,
      "id": "z86BxyBdwT42",
      "metadata": {
        "colab": {
          "base_uri": "https://localhost:8080/",
          "height": 505
        },
        "id": "z86BxyBdwT42",
        "outputId": "f486de17-8bea-4b28-9c69-ce84bf116b6f"
      },
      "outputs": [
        {
          "output_type": "stream",
          "name": "stderr",
          "text": [
            "<ipython-input-205-fac26c13c011>:5: UserWarning: No artists with labels found to put in legend.  Note that artists whose label start with an underscore are ignored when legend() is called with no argument.\n",
            "  plt.legend()\n"
          ]
        },
        {
          "output_type": "display_data",
          "data": {
            "text/plain": [
              "<Figure size 640x480 with 1 Axes>"
            ],
            "image/png": "[encoded data removed]"
          },
          "metadata": {}
        }
      ],
      "source": [
        "plt.xlabel('Epoch')\n",
        "plt.ylabel('Loss')\n",
        "plt.xticks(np.linspace(0, num_epochs, 5))\n",
        "# plt.xticks(np.arange(0, num_epochs))\n",
        "plt.legend()\n",
        "plt.plot(val_losses, label=\"Validation Loss\")\n",
        "plt.plot(train_losses, label=\"Training Loss\")\n",
        "# plt.xlim(0, 10)\n",
        "plt.ylim(bottom=0)\n",
        "plt.show()"
      ]
    },
    {
      "cell_type": "markdown",
      "id": "42a50a9c",
      "metadata": {
        "id": "42a50a9c"
      },
      "source": [
        "## Análise de Parâmetros\n",
        "\n",
        "Nesta etapa, iremos explorar diferentes medidas para buscar um modelo simplificado com performance igual ou melhor ao modelo com todos os parâmetros. Essa análise pode ser útil para identificar colunas redundantes ou altamente correlacionadas, que podem ser removidas ou tratadas para evitar multicolinearidade nos modelos."
      ]
    },
    {
      "cell_type": "markdown",
      "source": [
        "Ao olhar os pesos do modelo treinado, é possível notar o quão relevantes os parâmetros estão sendo para obtenção do resultado final. Quanto maior o peso, geralmente maior é o impacto da variável no resultado do modelo."
      ],
      "metadata": {
        "id": "rzNyJueYRbiB"
      },
      "id": "rzNyJueYRbiB"
    },
    {
      "cell_type": "code",
      "execution_count": 206,
      "id": "5QAWQzqW2UmA",
      "metadata": {
        "colab": {
          "base_uri": "https://localhost:8080/",
          "height": 461
        },
        "id": "5QAWQzqW2UmA",
        "outputId": "2ada5ce0-087b-4445-8e84-f12907663099"
      },
      "outputs": [
        {
          "output_type": "execute_result",
          "data": {
            "text/plain": [
              "pH                      1.284728\n",
              "fixed acidity           1.139299\n",
              "volatile acidity        0.980260\n",
              "alcohol                 0.792334\n",
              "sulphates               0.697803\n",
              "density                 0.675744\n",
              "type                    0.548863\n",
              "citric acid             0.543309\n",
              "chlorides               0.454583\n",
              "total sulfur dioxide    0.390408\n",
              "free sulfur dioxide     0.192809\n",
              "residual sugar          0.163789\n",
              "dtype: float32"
            ],
            "text/html": [
              "<div>\n",
              "<style scoped>\n",
              "    .dataframe tbody tr th:only-of-type {\n",
              "        vertical-align: middle;\n",
              "    }\n",
              "\n",
              "    .dataframe tbody tr th {\n",
              "        vertical-align: top;\n",
              "    }\n",
              "\n",
              "    .dataframe thead th {\n",
              "        text-align: right;\n",
              "    }\n",
              "</style>\n",
              "<table border=\"1\" class=\"dataframe\">\n",
              "  <thead>\n",
              "    <tr style=\"text-align: right;\">\n",
              "      <th></th>\n",
              "      <th>0</th>\n",
              "    </tr>\n",
              "  </thead>\n",
              "  <tbody>\n",
              "    <tr>\n",
              "      <th>pH</th>\n",
              "      <td>1.284728</td>\n",
              "    </tr>\n",
              "    <tr>\n",
              "      <th>fixed acidity</th>\n",
              "      <td>1.139299</td>\n",
              "    </tr>\n",
              "    <tr>\n",
              "      <th>volatile acidity</th>\n",
              "      <td>0.980260</td>\n",
              "    </tr>\n",
              "    <tr>\n",
              "      <th>alcohol</th>\n",
              "      <td>0.792334</td>\n",
              "    </tr>\n",
              "    <tr>\n",
              "      <th>sulphates</th>\n",
              "      <td>0.697803</td>\n",
              "    </tr>\n",
              "    <tr>\n",
              "      <th>density</th>\n",
              "      <td>0.675744</td>\n",
              "    </tr>\n",
              "    <tr>\n",
              "      <th>type</th>\n",
              "      <td>0.548863</td>\n",
              "    </tr>\n",
              "    <tr>\n",
              "      <th>citric acid</th>\n",
              "      <td>0.543309</td>\n",
              "    </tr>\n",
              "    <tr>\n",
              "      <th>chlorides</th>\n",
              "      <td>0.454583</td>\n",
              "    </tr>\n",
              "    <tr>\n",
              "      <th>total sulfur dioxide</th>\n",
              "      <td>0.390408</td>\n",
              "    </tr>\n",
              "    <tr>\n",
              "      <th>free sulfur dioxide</th>\n",
              "      <td>0.192809</td>\n",
              "    </tr>\n",
              "    <tr>\n",
              "      <th>residual sugar</th>\n",
              "      <td>0.163789</td>\n",
              "    </tr>\n",
              "  </tbody>\n",
              "</table>\n",
              "</div><br><label><b>dtype:</b> float32</label>"
            ]
          },
          "metadata": {},
          "execution_count": 206
        }
      ],
      "source": [
        "inp_names = list(data.columns)[0:-1]\n",
        "inp_w_values = model.linear.weight.detach().numpy().reshape((len(inp_names),))\n",
        "w_df = pd.Series(inp_w_values, index=x.columns).sort_values(ascending=False)\n",
        "w_df"
      ]
    },
    {
      "cell_type": "markdown",
      "source": [
        "A distribuição dos dados também deve ser considerada ao interpretar os pesos que os dados têm. Uma distribuição que não é normal, uniforme ou somente não simétrica pode fazer com que o peso tenda a valores menores ou maiores sem necessariamente ter a ver com o quanto o dado é relevante para classificação.\n",
        "\n",
        "De forma simplificada, pela mediana é possível entender um pouco como os dados se distribuem, pois 50% dos dados é menor, e 50% maior do que a mediana.\n",
        "\n",
        "No caso estudado, pH e alcohol parecem ter as medianas mais próximas da metade do range normalizado, e portanto são as que o treinamento do modelo provavelmente converge mais rápido ao utilizar. Além disso, o impacto outras das variáveis provavelmente é superestimado ao olhar somente os pesos."
      ],
      "metadata": {
        "id": "raIjoz_iTUjW"
      },
      "id": "raIjoz_iTUjW"
    },
    {
      "cell_type": "code",
      "source": [
        "medians = np.median(scaler.transform(x), axis=0)\n",
        "median_df = pd.Series(medians, index=x.columns).sort_values(ascending=False)\n",
        "median_df"
      ],
      "metadata": {
        "colab": {
          "base_uri": "https://localhost:8080/",
          "height": 461
        },
        "id": "gaSlOCdOSBCs",
        "outputId": "c0524816-be1e-46f6-ebe8-780f78ec092f"
      },
      "id": "gaSlOCdOSBCs",
      "execution_count": 207,
      "outputs": [
        {
          "output_type": "execute_result",
          "data": {
            "text/plain": [
              "type                    1.000000\n",
              "pH                      0.405172\n",
              "alcohol                 0.333333\n",
              "total sulfur dioxide    0.258065\n",
              "fixed acidity           0.239316\n",
              "citric acid             0.186747\n",
              "volatile acidity        0.168000\n",
              "sulphates               0.162921\n",
              "density                 0.149990\n",
              "free sulfur dioxide     0.097222\n",
              "chlorides               0.063123\n",
              "residual sugar          0.036810\n",
              "dtype: float64"
            ],
            "text/html": [
              "<div>\n",
              "<style scoped>\n",
              "    .dataframe tbody tr th:only-of-type {\n",
              "        vertical-align: middle;\n",
              "    }\n",
              "\n",
              "    .dataframe tbody tr th {\n",
              "        vertical-align: top;\n",
              "    }\n",
              "\n",
              "    .dataframe thead th {\n",
              "        text-align: right;\n",
              "    }\n",
              "</style>\n",
              "<table border=\"1\" class=\"dataframe\">\n",
              "  <thead>\n",
              "    <tr style=\"text-align: right;\">\n",
              "      <th></th>\n",
              "      <th>0</th>\n",
              "    </tr>\n",
              "  </thead>\n",
              "  <tbody>\n",
              "    <tr>\n",
              "      <th>type</th>\n",
              "      <td>1.000000</td>\n",
              "    </tr>\n",
              "    <tr>\n",
              "      <th>pH</th>\n",
              "      <td>0.405172</td>\n",
              "    </tr>\n",
              "    <tr>\n",
              "      <th>alcohol</th>\n",
              "      <td>0.333333</td>\n",
              "    </tr>\n",
              "    <tr>\n",
              "      <th>total sulfur dioxide</th>\n",
              "      <td>0.258065</td>\n",
              "    </tr>\n",
              "    <tr>\n",
              "      <th>fixed acidity</th>\n",
              "      <td>0.239316</td>\n",
              "    </tr>\n",
              "    <tr>\n",
              "      <th>citric acid</th>\n",
              "      <td>0.186747</td>\n",
              "    </tr>\n",
              "    <tr>\n",
              "      <th>volatile acidity</th>\n",
              "      <td>0.168000</td>\n",
              "    </tr>\n",
              "    <tr>\n",
              "      <th>sulphates</th>\n",
              "      <td>0.162921</td>\n",
              "    </tr>\n",
              "    <tr>\n",
              "      <th>density</th>\n",
              "      <td>0.149990</td>\n",
              "    </tr>\n",
              "    <tr>\n",
              "      <th>free sulfur dioxide</th>\n",
              "      <td>0.097222</td>\n",
              "    </tr>\n",
              "    <tr>\n",
              "      <th>chlorides</th>\n",
              "      <td>0.063123</td>\n",
              "    </tr>\n",
              "    <tr>\n",
              "      <th>residual sugar</th>\n",
              "      <td>0.036810</td>\n",
              "    </tr>\n",
              "  </tbody>\n",
              "</table>\n",
              "</div><br><label><b>dtype:</b> float64</label>"
            ]
          },
          "metadata": {},
          "execution_count": 207
        }
      ]
    },
    {
      "cell_type": "code",
      "source": [
        "from sklearn.feature_selection import mutual_info_classif, mutual_info_regression\n",
        "\n",
        "x, y = data.drop(columns=['quality']), data['quality']\n",
        "\n",
        "mi = mutual_info_regression(x, y, random_state=0)\n",
        "# mi = mutual_info_classif(x, y, random_state=0)\n",
        "mi_df = pd.Series(mi, index=x.columns).sort_values(ascending=False)\n",
        "mi_df"
      ],
      "metadata": {
        "colab": {
          "base_uri": "https://localhost:8080/",
          "height": 461
        },
        "id": "TdUaOYqXRQPA",
        "outputId": "220f0210-8c8a-4996-d0c5-5157821c187c"
      },
      "id": "TdUaOYqXRQPA",
      "execution_count": 208,
      "outputs": [
        {
          "output_type": "execute_result",
          "data": {
            "text/plain": [
              "alcohol                 0.160126\n",
              "density                 0.149433\n",
              "total sulfur dioxide    0.067258\n",
              "chlorides               0.066973\n",
              "residual sugar          0.053237\n",
              "citric acid             0.051566\n",
              "volatile acidity        0.043367\n",
              "free sulfur dioxide     0.040078\n",
              "sulphates               0.011959\n",
              "fixed acidity           0.007244\n",
              "pH                      0.005783\n",
              "type                    0.005761\n",
              "dtype: float64"
            ],
            "text/html": [
              "<div>\n",
              "<style scoped>\n",
              "    .dataframe tbody tr th:only-of-type {\n",
              "        vertical-align: middle;\n",
              "    }\n",
              "\n",
              "    .dataframe tbody tr th {\n",
              "        vertical-align: top;\n",
              "    }\n",
              "\n",
              "    .dataframe thead th {\n",
              "        text-align: right;\n",
              "    }\n",
              "</style>\n",
              "<table border=\"1\" class=\"dataframe\">\n",
              "  <thead>\n",
              "    <tr style=\"text-align: right;\">\n",
              "      <th></th>\n",
              "      <th>0</th>\n",
              "    </tr>\n",
              "  </thead>\n",
              "  <tbody>\n",
              "    <tr>\n",
              "      <th>alcohol</th>\n",
              "      <td>0.160126</td>\n",
              "    </tr>\n",
              "    <tr>\n",
              "      <th>density</th>\n",
              "      <td>0.149433</td>\n",
              "    </tr>\n",
              "    <tr>\n",
              "      <th>total sulfur dioxide</th>\n",
              "      <td>0.067258</td>\n",
              "    </tr>\n",
              "    <tr>\n",
              "      <th>chlorides</th>\n",
              "      <td>0.066973</td>\n",
              "    </tr>\n",
              "    <tr>\n",
              "      <th>residual sugar</th>\n",
              "      <td>0.053237</td>\n",
              "    </tr>\n",
              "    <tr>\n",
              "      <th>citric acid</th>\n",
              "      <td>0.051566</td>\n",
              "    </tr>\n",
              "    <tr>\n",
              "      <th>volatile acidity</th>\n",
              "      <td>0.043367</td>\n",
              "    </tr>\n",
              "    <tr>\n",
              "      <th>free sulfur dioxide</th>\n",
              "      <td>0.040078</td>\n",
              "    </tr>\n",
              "    <tr>\n",
              "      <th>sulphates</th>\n",
              "      <td>0.011959</td>\n",
              "    </tr>\n",
              "    <tr>\n",
              "      <th>fixed acidity</th>\n",
              "      <td>0.007244</td>\n",
              "    </tr>\n",
              "    <tr>\n",
              "      <th>pH</th>\n",
              "      <td>0.005783</td>\n",
              "    </tr>\n",
              "    <tr>\n",
              "      <th>type</th>\n",
              "      <td>0.005761</td>\n",
              "    </tr>\n",
              "  </tbody>\n",
              "</table>\n",
              "</div><br><label><b>dtype:</b> float64</label>"
            ]
          },
          "metadata": {},
          "execution_count": 208
        }
      ]
    },
    {
      "cell_type": "markdown",
      "source": [
        "## Um segundo modelo\n",
        "\n",
        "A partir de testes experimentais, retirando as variáveis que pareciam ser menos relevantes, o conjunto de features com apenas  alcohol se mostrou melhor do que o modelo que se utiliza de todos os parâmetros e até do que se utiliza de pH e alcohol.\n",
        "\n",
        "Esse modelo reduzido se apresenta a seguir."
      ],
      "metadata": {
        "id": "hg9tbGWvd6_b"
      },
      "id": "hg9tbGWvd6_b"
    },
    {
      "cell_type": "code",
      "execution_count": 209,
      "id": "lU-arYNMAAUF",
      "metadata": {
        "colab": {
          "base_uri": "https://localhost:8080/"
        },
        "id": "lU-arYNMAAUF",
        "outputId": "024e092f-d1e1-4aa2-f89a-f5c88f4ec98a"
      },
      "outputs": [
        {
          "output_type": "execute_result",
          "data": {
            "text/plain": [
              "1"
            ]
          },
          "metadata": {},
          "execution_count": 209
        }
      ],
      "source": [
        "columns_to_drop = [\n",
        "    # \"alcohol\",\n",
        "\n",
        "    \"pH\",\n",
        "    \"total sulfur dioxide\",\n",
        "    \"type\",\n",
        "    \"fixed acidity\",\n",
        "    \"volatile acidity\",\n",
        "    \"citric acid\",\n",
        "    \"residual sugar\",\n",
        "    \"chlorides\",\n",
        "    \"free sulfur dioxide\",\n",
        "    \"total sulfur dioxide\",\n",
        "    \"density\",\n",
        "    \"sulphates\",\n",
        "]\n",
        "\n",
        "\n",
        "x_train_sm = x_train.drop(columns=columns_to_drop)\n",
        "x_val_sm = x_val.drop(columns=columns_to_drop)\n",
        "x_test_sm = x_test.drop(columns=columns_to_drop)\n",
        "\n",
        "# Convert to PyTorch tensors\n",
        "X_train_sm, Y_train_sm = torch.tensor(x_train_sm.values, dtype=torch.float32), torch.tensor(y_train.values, dtype=torch.float32)\n",
        "train_ds = TensorDataset(X_train_sm, Y_train_sm)\n",
        "\n",
        "X_val_sm, Y_val_sm = torch.tensor(x_val_sm.values, dtype=torch.float32), torch.tensor(y_val.values, dtype=torch.float32)\n",
        "val_ds = TensorDataset(X_val_sm, Y_val_sm)\n",
        "\n",
        "X_test_sm, Y_test_sm = torch.tensor(x_test_sm.values, dtype=torch.float32), torch.tensor(y_test.values, dtype=torch.float32)\n",
        "\n",
        "batch_size = 32\n",
        "train_loader = DataLoader(train_ds, batch_size=batch_size, shuffle=True)\n",
        "val_loader = DataLoader(val_ds, batch_size=batch_size, shuffle=False)\n",
        "\n",
        "n_features = X_val_sm.shape[1]\n",
        "n_features"
      ]
    },
    {
      "cell_type": "markdown",
      "id": "bd8663a1",
      "metadata": {
        "id": "bd8663a1"
      },
      "source": [
        "## Re-treinamento do Modelo\n",
        "\n",
        "Nesta etapa, realizaremos o re-treinamento do modelo utilizando os dados ajustados. O objetivo é verificar se a remoção de colunas altamente correlacionadas ou redundantes, como `total sulfur dioxide`, pode melhorar o desempenho do modelo. O processo de treinamento será semelhante ao anterior, com a mesma arquitetura de modelo, função de perda e otimizador, mas agora utilizando o conjunto de dados modificado."
      ]
    },
    {
      "cell_type": "code",
      "execution_count": 210,
      "id": "u4dh7ZhW8gZx",
      "metadata": {
        "colab": {
          "base_uri": "https://localhost:8080/"
        },
        "id": "u4dh7ZhW8gZx",
        "outputId": "62d8fa4f-a0fa-42a5-d02f-e258e2e441f4"
      },
      "outputs": [
        {
          "output_type": "stream",
          "name": "stderr",
          "text": [
            "/usr/local/lib/python3.11/dist-packages/torch/nn/modules/loss.py:610: UserWarning: Using a target size (torch.Size([32])) that is different to the input size (torch.Size([32, 1])). This will likely lead to incorrect results due to broadcasting. Please ensure they have the same size.\n",
            "  return F.mse_loss(input, target, reduction=self.reduction)\n",
            "/usr/local/lib/python3.11/dist-packages/torch/nn/modules/loss.py:610: UserWarning: Using a target size (torch.Size([8])) that is different to the input size (torch.Size([8, 1])). This will likely lead to incorrect results due to broadcasting. Please ensure they have the same size.\n",
            "  return F.mse_loss(input, target, reduction=self.reduction)\n",
            "/usr/local/lib/python3.11/dist-packages/torch/nn/modules/loss.py:610: UserWarning: Using a target size (torch.Size([1034])) that is different to the input size (torch.Size([1034, 1])). This will likely lead to incorrect results due to broadcasting. Please ensure they have the same size.\n",
            "  return F.mse_loss(input, target, reduction=self.reduction)\n",
            "/usr/local/lib/python3.11/dist-packages/torch/nn/modules/loss.py:610: UserWarning: Using a target size (torch.Size([4136])) that is different to the input size (torch.Size([4136, 1])). This will likely lead to incorrect results due to broadcasting. Please ensure they have the same size.\n",
            "  return F.mse_loss(input, target, reduction=self.reduction)\n"
          ]
        }
      ],
      "source": [
        "model2 = LinearRegression()\n",
        "loss_fn = get_loss_fn()\n",
        "optimizer = get_optimizer(model2, lr=1e-3)\n",
        "\n",
        "num_epochs = 100\n",
        "\n",
        "val_losses = []\n",
        "train_losses = []\n",
        "\n",
        "for epoch in range(num_epochs):\n",
        "    model2.train()\n",
        "    for X_batch, Y_batch in train_loader:\n",
        "        preds = model2(X_batch)\n",
        "        loss = loss_fn(preds, Y_batch)\n",
        "\n",
        "        optimizer.zero_grad()\n",
        "        loss.backward()\n",
        "        optimizer.step()\n",
        "\n",
        "    model2.eval()\n",
        "    with torch.no_grad():\n",
        "        val_loss = loss_fn(model2(X_val_sm), Y_val_sm)\n",
        "        train_loss = loss_fn(model2(X_train_sm), Y_train_sm)\n",
        "    val_losses.append(val_loss)\n",
        "    train_losses.append(train_loss)"
      ]
    },
    {
      "cell_type": "code",
      "execution_count": 211,
      "id": "TuRlw0V7DJGp",
      "metadata": {
        "colab": {
          "base_uri": "https://localhost:8080/",
          "height": 505
        },
        "id": "TuRlw0V7DJGp",
        "outputId": "d53db0a6-cc59-4d78-f142-58a6e7721fef"
      },
      "outputs": [
        {
          "output_type": "stream",
          "name": "stderr",
          "text": [
            "<ipython-input-211-fac26c13c011>:5: UserWarning: No artists with labels found to put in legend.  Note that artists whose label start with an underscore are ignored when legend() is called with no argument.\n",
            "  plt.legend()\n"
          ]
        },
        {
          "output_type": "display_data",
          "data": {
            "text/plain": [
              "<Figure size 640x480 with 1 Axes>"
            ],
            "image/png": "[encoded data removed]"
          },
          "metadata": {}
        }
      ],
      "source": [
        "plt.xlabel('Epoch')\n",
        "plt.ylabel('Loss')\n",
        "plt.xticks(np.linspace(0, num_epochs, 5))\n",
        "# plt.xticks(np.arange(0, num_epochs))\n",
        "plt.legend()\n",
        "plt.plot(val_losses, label=\"Validation Loss\")\n",
        "plt.plot(train_losses, label=\"Training Loss\")\n",
        "# plt.xlim(0, 10)\n",
        "plt.ylim(bottom=0)\n",
        "plt.show()"
      ]
    },
    {
      "cell_type": "markdown",
      "source": [
        "## Resultados\n",
        "\n",
        "Um preditor trivial será utilizado para comparação, onde a média da qualidade do vinho será usada como predição sempre.\n",
        "\n",
        "Os trẽs modelos podem então ter sua performance comparada por Mean Absolute Error, Mean Squared Error, Acurácia, Correlação com saída verdadeira e Kendall tau.\n",
        "\n",
        "Kendall tau é uma medida de correlação de postos. Quanto melhor o modelo manter a ordem de qualidade entre os pares, maior seu valor é."
      ],
      "metadata": {
        "id": "tU9WCz1nZxGz"
      },
      "id": "tU9WCz1nZxGz"
    },
    {
      "cell_type": "code",
      "source": [
        "# Preditor trivial: atribuir o valor médio de 'quality' como predição\n",
        "mean_quality = y_train.mean()\n",
        "trivial_preds = torch.full_like(Y_test, mean_quality, dtype=torch.float32)"
      ],
      "metadata": {
        "id": "NCS3SUVra53_"
      },
      "id": "NCS3SUVra53_",
      "execution_count": 212,
      "outputs": []
    },
    {
      "cell_type": "code",
      "execution_count": 213,
      "id": "P9B42tgkDMTI",
      "metadata": {
        "colab": {
          "base_uri": "https://localhost:8080/"
        },
        "id": "P9B42tgkDMTI",
        "outputId": "ac7dcd65-c594-42da-c9c9-4fac1f0580cf"
      },
      "outputs": [
        {
          "output_type": "stream",
          "name": "stdout",
          "text": [
            "Loss do preditor trivial: 0.79\n",
            "Loss do modelo inicial: 0.85\n",
            "Loss do modelo reduzido: 0.82\n"
          ]
        },
        {
          "output_type": "stream",
          "name": "stderr",
          "text": [
            "/usr/local/lib/python3.11/dist-packages/torch/nn/modules/loss.py:610: UserWarning: Using a target size (torch.Size([1293])) that is different to the input size (torch.Size([1293, 1])). This will likely lead to incorrect results due to broadcasting. Please ensure they have the same size.\n",
            "  return F.mse_loss(input, target, reduction=self.reduction)\n"
          ]
        }
      ],
      "source": [
        "from scipy.stats import kendalltau\n",
        "\n",
        "y_pred = model(X_test)\n",
        "y2_pred = model2(X_test_sm)\n",
        "loss = loss_fn(y_pred, Y_test)\n",
        "loss2 = loss_fn(y2_pred, Y_test_sm)\n",
        "loss_trivial = loss_fn(trivial_preds, Y_test)\n",
        "\n",
        "print(f\"Loss do preditor trivial: {loss_trivial:.2f}\")\n",
        "print(f\"Loss do modelo inicial: {loss:.2f}\")\n",
        "print(f\"Loss do modelo reduzido: {loss2:.2f}\")"
      ]
    },
    {
      "cell_type": "code",
      "source": [
        "# Calcular o erro médio quadrático (MSE) de todos\n",
        "from sklearn.metrics import mean_squared_error\n",
        "\n",
        "mse = mean_squared_error(Y_test.numpy(), y_pred.detach().numpy())\n",
        "mse2 = mean_squared_error(Y_test_sm.numpy(), y2_pred.detach().numpy())\n",
        "trivial_mse = mean_squared_error(Y_test.numpy(), trivial_preds.numpy())\n",
        "\n",
        "# Exibir os resultados\n",
        "print(f\"Erro Quadrático Médio (MSE) do preditor trivial: {trivial_mse:.2f}\")\n",
        "print(f\"Erro Quadrático Médio (MSE) do modelo inicial: {mse:.2f}\")\n",
        "print(f\"Erro Quadrático Médio (MSE) do modelo reduzido: {mse2:.2f}\")"
      ],
      "metadata": {
        "colab": {
          "base_uri": "https://localhost:8080/"
        },
        "id": "qXS622Z7dBAL",
        "outputId": "42050f0c-fe40-455d-d7dc-73b70845437d"
      },
      "id": "qXS622Z7dBAL",
      "execution_count": 214,
      "outputs": [
        {
          "output_type": "stream",
          "name": "stdout",
          "text": [
            "Erro Quadrático Médio (MSE) do preditor trivial: 0.79\n",
            "Erro Quadrático Médio (MSE) do modelo inicial: 0.77\n",
            "Erro Quadrático Médio (MSE) do modelo reduzido: 0.66\n"
          ]
        }
      ]
    },
    {
      "cell_type": "code",
      "execution_count": 215,
      "id": "58688275",
      "metadata": {
        "colab": {
          "base_uri": "https://localhost:8080/"
        },
        "id": "58688275",
        "outputId": "64d8d631-91ca-4e4c-be30-bc038b898f7c"
      },
      "outputs": [
        {
          "output_type": "stream",
          "name": "stdout",
          "text": [
            "Erro Médio Absoluto (MAE) do preditor trivial: 0.71\n",
            "Erro Médio Absoluto (MAE) do modelo inicial: 0.69\n",
            "Erro Médio Absoluto (MAE) do modelo reduzido: 0.64\n"
          ]
        }
      ],
      "source": [
        "# Calcular o erro médio absoluto (MAE) de todos\n",
        "from sklearn.metrics import mean_absolute_error\n",
        "\n",
        "mae = mean_absolute_error(Y_test.numpy(), y_pred.detach().numpy())\n",
        "mae2 = mean_absolute_error(Y_test_sm.numpy(), y2_pred.detach().numpy())\n",
        "trivial_mae = mean_absolute_error(Y_test.numpy(), trivial_preds.numpy())\n",
        "\n",
        "# Exibir os resultados\n",
        "print(f\"Erro Médio Absoluto (MAE) do preditor trivial: {trivial_mae:.2f}\")\n",
        "print(f\"Erro Médio Absoluto (MAE) do modelo inicial: {mae:.2f}\")\n",
        "print(f\"Erro Médio Absoluto (MAE) do modelo reduzido: {mae2:.2f}\")"
      ]
    },
    {
      "cell_type": "code",
      "execution_count": 216,
      "id": "48313b3d",
      "metadata": {
        "colab": {
          "base_uri": "https://localhost:8080/"
        },
        "id": "48313b3d",
        "outputId": "633d2405-67b6-4b46-e9a6-929d7aba84c9"
      },
      "outputs": [
        {
          "output_type": "stream",
          "name": "stdout",
          "text": [
            "Acurácia do preditor trivial: 41.76%\n",
            "Acurácia do preditor aleatório: 13.15%\n",
            "Acurácia do modelo inicial: 42.92%\n",
            "Acurácia do modelo reduzido: 41.76%\n"
          ]
        }
      ],
      "source": [
        "# Calcular a acurácia do modelo\n",
        "y_pred_classes = torch.round(y_pred).squeeze()  # Arredondar as predições para o inteiro mais próximo\n",
        "model_accuracy = (y_pred_classes == Y_test).float().mean().item() * 100\n",
        "\n",
        "y_pred_classes_sm = torch.round(y2_pred).squeeze()  # Arredondar as predições para o inteiro mais próximo\n",
        "model_accuracy_sm = (y_pred_classes_sm == Y_test_sm).float().mean().item() * 100\n",
        "\n",
        "# Calcular a acurácia do preditor trivial\n",
        "trivial_accuracy = (torch.round(trivial_preds) == Y_test).float().mean().item() * 100\n",
        "\n",
        "# Calcular a acurácia do preditor aleatório\n",
        "random_preds = torch.randint(1, 8, Y_test.shape)  # Gerar predições aleatórias entre 1 e 7\n",
        "random_accuracy = (random_preds == Y_test).float().mean().item() * 100\n",
        "\n",
        "# Exibir os resultados\n",
        "print(f\"Acurácia do preditor trivial: {trivial_accuracy:.2f}%\")\n",
        "print(f\"Acurácia do preditor aleatório: {random_accuracy:.2f}%\")\n",
        "print(f\"Acurácia do modelo inicial: {model_accuracy:.2f}%\")\n",
        "print(f\"Acurácia do modelo reduzido: {model_accuracy_sm:.2f}%\")"
      ]
    },
    {
      "cell_type": "code",
      "execution_count": 217,
      "id": "3f8ba4e3",
      "metadata": {
        "colab": {
          "base_uri": "https://localhost:8080/"
        },
        "id": "3f8ba4e3",
        "outputId": "60aa2435-4150-4bd1-cf66-0bf99d4584b6"
      },
      "outputs": [
        {
          "output_type": "stream",
          "name": "stdout",
          "text": [
            "Correlação entre saída desejada e obtida do modelo inicial: 0.18\n",
            "Correlação entre saída desejada e obtida do modelo reduzido: 0.51\n"
          ]
        }
      ],
      "source": [
        "# Calcular a correlação entre a saída desejada (Y_test) e a saída obtida (y_pred)\n",
        "correlation = np.corrcoef(Y_test.numpy(), y_pred.detach().numpy().flatten())[0, 1]\n",
        "\n",
        "# Exibir o resultado\n",
        "print(f\"Correlação entre saída desejada e obtida do modelo inicial: {correlation:.2f}\")\n",
        "# Calcular a correlação entre a saída desejada (Y_test) e a saída obtida (y_pred)\n",
        "correlation = np.corrcoef(Y_test_sm.numpy(), y2_pred.detach().numpy().flatten())[0, 1]\n",
        "\n",
        "# Exibir o resultado\n",
        "print(f\"Correlação entre saída desejada e obtida do modelo reduzido: {correlation:.2f}\")"
      ]
    },
    {
      "cell_type": "code",
      "source": [
        "# kendalltau é uma medida de correlação que compara a ordem relativa de cada par de pontos, desconsiderando a magnitude\n",
        "# ou seja, quanto melhor nossa predição manter a ordem dos ranques, maior o valor de tau\n",
        "tau, _ = kendalltau(y_test, y_pred.detach().numpy())\n",
        "tau2, _ = kendalltau(y_test, y2_pred.detach().numpy())\n",
        "print(f\"Kendall's Tau do modelo inicial: {tau:.2f}\")\n",
        "print(f\"Kendall's Tau do modelo reduzido: {tau2:.2f}\")"
      ],
      "metadata": {
        "colab": {
          "base_uri": "https://localhost:8080/"
        },
        "id": "RHN0i_usZp8q",
        "outputId": "be99895c-8575-4ba1-c069-8563b520376a"
      },
      "id": "RHN0i_usZp8q",
      "execution_count": 218,
      "outputs": [
        {
          "output_type": "stream",
          "name": "stdout",
          "text": [
            "Kendall's Tau do modelo inicial: 0.15\n",
            "Kendall's Tau do modelo reduzido: 0.40\n"
          ]
        }
      ]
    },
    {
      "cell_type": "markdown",
      "source": [
        "## Conclusão\n",
        "\n",
        "O modelo de regressão linear apresentou sua limitação em classificação ao mostrar extrema sensibilidade a ruído, mostrando melhor performance ao manter somente uma feature.\n",
        "\n",
        "Mesmo esse modelo não apresenta performance muito superior ao preditor trivial, estando longe de uma performance aceitável de predição de qualidade de vinho.\n",
        "\n",
        "Os objetivos desse projeto foram concluídos, com a exploração do modelo de regressão linear e a visualização de sua limitação."
      ],
      "metadata": {
        "id": "8iZxZS5mgB89"
      },
      "id": "8iZxZS5mgB89"
    },
    {
      "cell_type": "code",
      "source": [],
      "metadata": {
        "id": "38wXR2tbhZ0i"
      },
      "id": "38wXR2tbhZ0i",
      "execution_count": null,
      "outputs": []
    }
  ],
  "metadata": {
    "colab": {
      "provenance": []
    },
    "kernelspec": {
      "display_name": "Python 3",
      "language": "python",
      "name": "python3"
    },
    "language_info": {
      "codemirror_mode": {
        "name": "ipython",
        "version": 3
      },
      "file_extension": ".py",
      "mimetype": "text/x-python",
      "name": "python",
      "nbconvert_exporter": "python",
      "pygments_lexer": "ipython3",
      "version": "3.12.6"
    }
  },
  "nbformat": 4,
  "nbformat_minor": 5
}