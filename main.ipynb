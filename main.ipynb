{
  "cells": [
    {
      "cell_type": "markdown",
      "id": "c619f2c7",
      "metadata": {},
      "source": [
        "# Predição da Qualidade do Vinho\n",
        "\n",
        "## Análise de Dados e Modelagem com PyTorch e Scikit-Learn\n",
        "\n",
        "Arthur Cardoso 211038191\n",
        "Artur Padovesi 211038208"
      ]
    },
    {
      "cell_type": "code",
      "execution_count": 26,
      "id": "9d24ad22",
      "metadata": {
        "id": "9d24ad22"
      },
      "outputs": [],
      "source": [
        "import pandas as pd\n",
        "import torch\n",
        "import torch.nn as nn\n",
        "import torch.optim as optim\n",
        "import numpy as np\n",
        "from sklearn.model_selection import train_test_split\n",
        "import matplotlib.pyplot as plt\n",
        "from sklearn.preprocessing import MinMaxScaler, LabelEncoder\n",
        "from sklearn.linear_model import LinearRegression\n",
        "from sklearn.metrics import mean_squared_error, r2_score\n",
        "from torch.utils.data import DataLoader, TensorDataset\n"
      ]
    },
    {
      "cell_type": "code",
      "execution_count": 27,
      "id": "ea596521",
      "metadata": {
        "colab": {
          "base_uri": "https://localhost:8080/",
          "height": 441
        },
        "id": "ea596521",
        "outputId": "49b0b636-4a93-445a-d647-7f2bef030cd6"
      },
      "outputs": [
        {
          "data": {
            "text/html": [
              "<div>\n",
              "<style scoped>\n",
              "    .dataframe tbody tr th:only-of-type {\n",
              "        vertical-align: middle;\n",
              "    }\n",
              "\n",
              "    .dataframe tbody tr th {\n",
              "        vertical-align: top;\n",
              "    }\n",
              "\n",
              "    .dataframe thead th {\n",
              "        text-align: right;\n",
              "    }\n",
              "</style>\n",
              "<table border=\"1\" class=\"dataframe\">\n",
              "  <thead>\n",
              "    <tr style=\"text-align: right;\">\n",
              "      <th></th>\n",
              "      <th>type</th>\n",
              "      <th>fixed acidity</th>\n",
              "      <th>volatile acidity</th>\n",
              "      <th>citric acid</th>\n",
              "      <th>residual sugar</th>\n",
              "      <th>chlorides</th>\n",
              "      <th>free sulfur dioxide</th>\n",
              "      <th>total sulfur dioxide</th>\n",
              "      <th>density</th>\n",
              "      <th>pH</th>\n",
              "      <th>sulphates</th>\n",
              "      <th>alcohol</th>\n",
              "      <th>quality</th>\n",
              "    </tr>\n",
              "  </thead>\n",
              "  <tbody>\n",
              "    <tr>\n",
              "      <th>0</th>\n",
              "      <td>white</td>\n",
              "      <td>7.0</td>\n",
              "      <td>0.270</td>\n",
              "      <td>0.36</td>\n",
              "      <td>20.7</td>\n",
              "      <td>0.045</td>\n",
              "      <td>45.0</td>\n",
              "      <td>170.0</td>\n",
              "      <td>1.00100</td>\n",
              "      <td>3.00</td>\n",
              "      <td>0.45</td>\n",
              "      <td>8.8</td>\n",
              "      <td>6</td>\n",
              "    </tr>\n",
              "    <tr>\n",
              "      <th>1</th>\n",
              "      <td>white</td>\n",
              "      <td>6.3</td>\n",
              "      <td>0.300</td>\n",
              "      <td>0.34</td>\n",
              "      <td>1.6</td>\n",
              "      <td>0.049</td>\n",
              "      <td>14.0</td>\n",
              "      <td>132.0</td>\n",
              "      <td>0.99400</td>\n",
              "      <td>3.30</td>\n",
              "      <td>0.49</td>\n",
              "      <td>9.5</td>\n",
              "      <td>6</td>\n",
              "    </tr>\n",
              "    <tr>\n",
              "      <th>2</th>\n",
              "      <td>white</td>\n",
              "      <td>8.1</td>\n",
              "      <td>0.280</td>\n",
              "      <td>0.40</td>\n",
              "      <td>6.9</td>\n",
              "      <td>0.050</td>\n",
              "      <td>30.0</td>\n",
              "      <td>97.0</td>\n",
              "      <td>0.99510</td>\n",
              "      <td>3.26</td>\n",
              "      <td>0.44</td>\n",
              "      <td>10.1</td>\n",
              "      <td>6</td>\n",
              "    </tr>\n",
              "    <tr>\n",
              "      <th>3</th>\n",
              "      <td>white</td>\n",
              "      <td>7.2</td>\n",
              "      <td>0.230</td>\n",
              "      <td>0.32</td>\n",
              "      <td>8.5</td>\n",
              "      <td>0.058</td>\n",
              "      <td>47.0</td>\n",
              "      <td>186.0</td>\n",
              "      <td>0.99560</td>\n",
              "      <td>3.19</td>\n",
              "      <td>0.40</td>\n",
              "      <td>9.9</td>\n",
              "      <td>6</td>\n",
              "    </tr>\n",
              "    <tr>\n",
              "      <th>4</th>\n",
              "      <td>white</td>\n",
              "      <td>7.2</td>\n",
              "      <td>0.230</td>\n",
              "      <td>0.32</td>\n",
              "      <td>8.5</td>\n",
              "      <td>0.058</td>\n",
              "      <td>47.0</td>\n",
              "      <td>186.0</td>\n",
              "      <td>0.99560</td>\n",
              "      <td>3.19</td>\n",
              "      <td>0.40</td>\n",
              "      <td>9.9</td>\n",
              "      <td>6</td>\n",
              "    </tr>\n",
              "    <tr>\n",
              "      <th>...</th>\n",
              "      <td>...</td>\n",
              "      <td>...</td>\n",
              "      <td>...</td>\n",
              "      <td>...</td>\n",
              "      <td>...</td>\n",
              "      <td>...</td>\n",
              "      <td>...</td>\n",
              "      <td>...</td>\n",
              "      <td>...</td>\n",
              "      <td>...</td>\n",
              "      <td>...</td>\n",
              "      <td>...</td>\n",
              "      <td>...</td>\n",
              "    </tr>\n",
              "    <tr>\n",
              "      <th>6492</th>\n",
              "      <td>red</td>\n",
              "      <td>6.2</td>\n",
              "      <td>0.600</td>\n",
              "      <td>0.08</td>\n",
              "      <td>2.0</td>\n",
              "      <td>0.090</td>\n",
              "      <td>32.0</td>\n",
              "      <td>44.0</td>\n",
              "      <td>0.99490</td>\n",
              "      <td>3.45</td>\n",
              "      <td>0.58</td>\n",
              "      <td>10.5</td>\n",
              "      <td>5</td>\n",
              "    </tr>\n",
              "    <tr>\n",
              "      <th>6493</th>\n",
              "      <td>red</td>\n",
              "      <td>5.9</td>\n",
              "      <td>0.550</td>\n",
              "      <td>0.10</td>\n",
              "      <td>2.2</td>\n",
              "      <td>0.062</td>\n",
              "      <td>39.0</td>\n",
              "      <td>51.0</td>\n",
              "      <td>0.99512</td>\n",
              "      <td>3.52</td>\n",
              "      <td>NaN</td>\n",
              "      <td>11.2</td>\n",
              "      <td>6</td>\n",
              "    </tr>\n",
              "    <tr>\n",
              "      <th>6494</th>\n",
              "      <td>red</td>\n",
              "      <td>6.3</td>\n",
              "      <td>0.510</td>\n",
              "      <td>0.13</td>\n",
              "      <td>2.3</td>\n",
              "      <td>0.076</td>\n",
              "      <td>29.0</td>\n",
              "      <td>40.0</td>\n",
              "      <td>0.99574</td>\n",
              "      <td>3.42</td>\n",
              "      <td>0.75</td>\n",
              "      <td>11.0</td>\n",
              "      <td>6</td>\n",
              "    </tr>\n",
              "    <tr>\n",
              "      <th>6495</th>\n",
              "      <td>red</td>\n",
              "      <td>5.9</td>\n",
              "      <td>0.645</td>\n",
              "      <td>0.12</td>\n",
              "      <td>2.0</td>\n",
              "      <td>0.075</td>\n",
              "      <td>32.0</td>\n",
              "      <td>44.0</td>\n",
              "      <td>0.99547</td>\n",
              "      <td>3.57</td>\n",
              "      <td>0.71</td>\n",
              "      <td>10.2</td>\n",
              "      <td>5</td>\n",
              "    </tr>\n",
              "    <tr>\n",
              "      <th>6496</th>\n",
              "      <td>red</td>\n",
              "      <td>6.0</td>\n",
              "      <td>0.310</td>\n",
              "      <td>0.47</td>\n",
              "      <td>3.6</td>\n",
              "      <td>0.067</td>\n",
              "      <td>18.0</td>\n",
              "      <td>42.0</td>\n",
              "      <td>0.99549</td>\n",
              "      <td>3.39</td>\n",
              "      <td>0.66</td>\n",
              "      <td>11.0</td>\n",
              "      <td>6</td>\n",
              "    </tr>\n",
              "  </tbody>\n",
              "</table>\n",
              "<p>6497 rows × 13 columns</p>\n",
              "</div>"
            ],
            "text/plain": [
              "       type  fixed acidity  volatile acidity  citric acid  residual sugar  \\\n",
              "0     white            7.0             0.270         0.36            20.7   \n",
              "1     white            6.3             0.300         0.34             1.6   \n",
              "2     white            8.1             0.280         0.40             6.9   \n",
              "3     white            7.2             0.230         0.32             8.5   \n",
              "4     white            7.2             0.230         0.32             8.5   \n",
              "...     ...            ...               ...          ...             ...   \n",
              "6492    red            6.2             0.600         0.08             2.0   \n",
              "6493    red            5.9             0.550         0.10             2.2   \n",
              "6494    red            6.3             0.510         0.13             2.3   \n",
              "6495    red            5.9             0.645         0.12             2.0   \n",
              "6496    red            6.0             0.310         0.47             3.6   \n",
              "\n",
              "      chlorides  free sulfur dioxide  total sulfur dioxide  density    pH  \\\n",
              "0         0.045                 45.0                 170.0  1.00100  3.00   \n",
              "1         0.049                 14.0                 132.0  0.99400  3.30   \n",
              "2         0.050                 30.0                  97.0  0.99510  3.26   \n",
              "3         0.058                 47.0                 186.0  0.99560  3.19   \n",
              "4         0.058                 47.0                 186.0  0.99560  3.19   \n",
              "...         ...                  ...                   ...      ...   ...   \n",
              "6492      0.090                 32.0                  44.0  0.99490  3.45   \n",
              "6493      0.062                 39.0                  51.0  0.99512  3.52   \n",
              "6494      0.076                 29.0                  40.0  0.99574  3.42   \n",
              "6495      0.075                 32.0                  44.0  0.99547  3.57   \n",
              "6496      0.067                 18.0                  42.0  0.99549  3.39   \n",
              "\n",
              "      sulphates  alcohol  quality  \n",
              "0          0.45      8.8        6  \n",
              "1          0.49      9.5        6  \n",
              "2          0.44     10.1        6  \n",
              "3          0.40      9.9        6  \n",
              "4          0.40      9.9        6  \n",
              "...         ...      ...      ...  \n",
              "6492       0.58     10.5        5  \n",
              "6493        NaN     11.2        6  \n",
              "6494       0.75     11.0        6  \n",
              "6495       0.71     10.2        5  \n",
              "6496       0.66     11.0        6  \n",
              "\n",
              "[6497 rows x 13 columns]"
            ]
          },
          "execution_count": 27,
          "metadata": {},
          "output_type": "execute_result"
        }
      ],
      "source": [
        "data = pd.read_csv('winequalityN.csv')\n",
        "data"
      ]
    },
    {
      "cell_type": "markdown",
      "id": "c4776295",
      "metadata": {},
      "source": [
        "## Início do Tratamento dos Dados\n",
        "\n",
        "Antes de prosseguir com a modelagem, é necessário realizar o tratamento dos dados para garantir que estejam prontos para análise. Na célula abaixo, realizamos a codificação da variável categórica `type` utilizando `LabelEncoder`, transformando-a em valores numéricos. Além disso, verificamos a existência de valores nulos no conjunto de dados e removemos as linhas que possuem valores faltantes, garantindo a integridade dos dados para as próximas etapas.\n"
      ]
    },
    {
      "cell_type": "code",
      "execution_count": 28,
      "id": "9cdfe355",
      "metadata": {
        "colab": {
          "base_uri": "https://localhost:8080/"
        },
        "id": "9cdfe355",
        "outputId": "b0c8ef4e-0a80-45e9-a144-fe00fecfba7c"
      },
      "outputs": [
        {
          "name": "stdout",
          "output_type": "stream",
          "text": [
            "type                     0\n",
            "fixed acidity           10\n",
            "volatile acidity         8\n",
            "citric acid              3\n",
            "residual sugar           2\n",
            "chlorides                2\n",
            "free sulfur dioxide      0\n",
            "total sulfur dioxide     0\n",
            "density                  0\n",
            "pH                       9\n",
            "sulphates                4\n",
            "alcohol                  0\n",
            "quality                  0\n",
            "dtype: int64\n"
          ]
        }
      ],
      "source": [
        "# Encoding type of wine\n",
        "label_encoder = LabelEncoder()\n",
        "data['type'] = label_encoder.fit_transform(data['type'])\n",
        "\n",
        "print(data.isnull().sum())\n",
        "\n",
        "# remover linhas que possuem valores faltantes\n",
        "data.dropna(inplace=True)"
      ]
    },
    {
      "cell_type": "markdown",
      "id": "_Y2P-l8bDz1Z",
      "metadata": {
        "id": "_Y2P-l8bDz1Z"
      },
      "source": [
        "Antes mesmo da criação e treinamento do modelo, podemos fazer uma análise de informação mútua entre os parâmetros e a classificação"
      ]
    },
    {
      "cell_type": "code",
      "execution_count": 29,
      "id": "z-WaE_QFDySb",
      "metadata": {
        "colab": {
          "base_uri": "https://localhost:8080/",
          "height": 461
        },
        "id": "z-WaE_QFDySb",
        "outputId": "64e851f7-b810-42aa-8285-5573e2cfc769"
      },
      "outputs": [
        {
          "data": {
            "text/plain": [
              "alcohol                 0.160126\n",
              "density                 0.149433\n",
              "total sulfur dioxide    0.067258\n",
              "chlorides               0.066973\n",
              "residual sugar          0.053237\n",
              "citric acid             0.051566\n",
              "volatile acidity        0.043367\n",
              "free sulfur dioxide     0.040078\n",
              "sulphates               0.011959\n",
              "fixed acidity           0.007244\n",
              "pH                      0.005783\n",
              "type                    0.005761\n",
              "dtype: float64"
            ]
          },
          "execution_count": 29,
          "metadata": {},
          "output_type": "execute_result"
        }
      ],
      "source": [
        "from sklearn.feature_selection import mutual_info_classif, mutual_info_regression\n",
        "\n",
        "x, y = data.drop(columns=['quality']), data['quality']\n",
        "\n",
        "mi = mutual_info_regression(x, y, random_state=0)\n",
        "# mi = mutual_info_classif(x, y, random_state=0)\n",
        "mi_df = pd.Series(mi, index=x.columns).sort_values(ascending=False)\n",
        "mi_df"
      ]
    },
    {
      "cell_type": "markdown",
      "id": "a3f3b6e0",
      "metadata": {},
      "source": [
        "## Separação e Normalização dos Dados\n",
        "\n",
        "Dividimos o conjunto de dados em três partes: treinamento, validação e teste, utilizando a função `train_test_split` do `sklearn.model_selection`. Após a separação, normalizamos as features (exceto a coluna `quality`) utilizando o `MinMaxScaler` do `sklearn.preprocessing`, garantindo que os valores estejam entre 0 e 1. Essa etapa é essencial para melhorar a performance do modelo durante o treinamento.\n"
      ]
    },
    {
      "cell_type": "code",
      "execution_count": 30,
      "id": "dfccf74c",
      "metadata": {
        "colab": {
          "base_uri": "https://localhost:8080/"
        },
        "id": "dfccf74c",
        "outputId": "05982962-2bc4-4b74-dacb-19de60099540"
      },
      "outputs": [
        {
          "data": {
            "text/plain": [
              "12"
            ]
          },
          "execution_count": 30,
          "metadata": {},
          "output_type": "execute_result"
        }
      ],
      "source": [
        "# Split the into train, validation, and test sets\n",
        "train_data, test_data = train_test_split(data, test_size=0.2, random_state=42)\n",
        "train_data, val_data = train_test_split(train_data, test_size=0.2, random_state=42)\n",
        "\n",
        "x_train, y_train = train_data.drop(columns=['quality']), train_data['quality']\n",
        "x_val, y_val = val_data.drop(columns=['quality']), val_data['quality']\n",
        "x_test, y_test = test_data.drop(columns=['quality']), test_data['quality']\n",
        "\n",
        "\n",
        "# Normalizar as features (exceto a coluna 'quality')\n",
        "scaler = MinMaxScaler()\n",
        "x_train = pd.DataFrame(scaler.fit_transform(x_train), columns=x_train.columns)\n",
        "x_val = pd.DataFrame(scaler.transform(x_val), columns=x_val.columns)\n",
        "x_test = pd.DataFrame(scaler.transform(x_test), columns=x_test.columns)\n",
        "\n",
        "\n",
        "# Convert to PyTorch tensors\n",
        "X_train, Y_train = torch.tensor(x_train.values, dtype=torch.float32), torch.tensor(y_train.values, dtype=torch.float32)\n",
        "train_ds = TensorDataset(X_train, Y_train)\n",
        "\n",
        "X_val, Y_val = torch.tensor(x_val.values, dtype=torch.float32), torch.tensor(y_val.values, dtype=torch.float32)\n",
        "val_ds = TensorDataset(X_val, Y_val)\n",
        "\n",
        "X_test, Y_test = torch.tensor(x_test.values, dtype=torch.float32), torch.tensor(y_test.values, dtype=torch.float32)\n",
        "\n",
        "batch_size = 32\n",
        "train_loader = DataLoader(train_ds, batch_size=batch_size, shuffle=True)\n",
        "val_loader = DataLoader(val_ds, batch_size=batch_size, shuffle=False)\n",
        "\n",
        "n_features = X_val.shape[1]\n",
        "n_features"
      ]
    },
    {
      "cell_type": "markdown",
      "id": "047df765",
      "metadata": {},
      "source": [
        "## Treinamento do Modelo com a Classe `LinearRegression`\n",
        "\n",
        "Nesta etapa, treinamos um modelo de regressão linear simples utilizando a classe `LinearRegression`. O modelo possui uma camada linear com pesos e bias inicializados aleatoriamente. O treinamento é realizado com o otimizador SGD e a função de perda L1, ajustando os pesos para minimizar o erro entre as predições e os valores reais. As perdas de treinamento e validação são registradas para análise.\n"
      ]
    },
    {
      "cell_type": "code",
      "execution_count": 31,
      "id": "5357df41",
      "metadata": {
        "id": "5357df41"
      },
      "outputs": [],
      "source": [
        "class LinearRegression(nn.Module):\n",
        "    def __init__(self):\n",
        "        super().__init__()\n",
        "        self.linear = nn.Linear(in_features=n_features, out_features=1)  # 'n_features' entradas, 1 saída\n",
        "        nn.init.normal_(self.linear.weight, mean=0, std=0.01)\n",
        "        nn.init.zeros_(self.linear.bias)\n",
        "\n",
        "    def forward(self, X):\n",
        "        return self.linear(X)\n",
        "\n",
        "def get_loss_fn():\n",
        "    return nn.L1Loss()\n",
        "    # return nn.MSELoss()\n",
        "\n",
        "def get_optimizer(model, lr):\n",
        "    return optim.SGD(model.parameters(), lr=lr)"
      ]
    },
    {
      "cell_type": "code",
      "execution_count": 32,
      "id": "b44da2f0",
      "metadata": {
        "colab": {
          "base_uri": "https://localhost:8080/"
        },
        "id": "b44da2f0",
        "outputId": "0b3c2922-6b99-4738-9dd1-81cfd3a8f865"
      },
      "outputs": [
        {
          "name": "stderr",
          "output_type": "stream",
          "text": [
            "C:\\Users\\tucol\\AppData\\Roaming\\Python\\Python312\\site-packages\\torch\\nn\\modules\\loss.py:128: UserWarning: Using a target size (torch.Size([32])) that is different to the input size (torch.Size([32, 1])). This will likely lead to incorrect results due to broadcasting. Please ensure they have the same size.\n",
            "  return F.l1_loss(input, target, reduction=self.reduction)\n",
            "C:\\Users\\tucol\\AppData\\Roaming\\Python\\Python312\\site-packages\\torch\\nn\\modules\\loss.py:128: UserWarning: Using a target size (torch.Size([8])) that is different to the input size (torch.Size([8, 1])). This will likely lead to incorrect results due to broadcasting. Please ensure they have the same size.\n",
            "  return F.l1_loss(input, target, reduction=self.reduction)\n",
            "C:\\Users\\tucol\\AppData\\Roaming\\Python\\Python312\\site-packages\\torch\\nn\\modules\\loss.py:128: UserWarning: Using a target size (torch.Size([1034])) that is different to the input size (torch.Size([1034, 1])). This will likely lead to incorrect results due to broadcasting. Please ensure they have the same size.\n",
            "  return F.l1_loss(input, target, reduction=self.reduction)\n",
            "C:\\Users\\tucol\\AppData\\Roaming\\Python\\Python312\\site-packages\\torch\\nn\\modules\\loss.py:128: UserWarning: Using a target size (torch.Size([4136])) that is different to the input size (torch.Size([4136, 1])). This will likely lead to incorrect results due to broadcasting. Please ensure they have the same size.\n",
            "  return F.l1_loss(input, target, reduction=self.reduction)\n"
          ]
        }
      ],
      "source": [
        "model = LinearRegression()\n",
        "loss_fn = get_loss_fn()\n",
        "optimizer = get_optimizer(model, lr=1e-3)\n",
        "\n",
        "num_epochs = 100\n",
        "\n",
        "val_losses = []\n",
        "train_losses = []\n",
        "\n",
        "for epoch in range(num_epochs):\n",
        "    model.train()\n",
        "    for X_batch, Y_batch in train_loader:\n",
        "        preds = model(X_batch)\n",
        "        loss = loss_fn(preds, Y_batch)\n",
        "\n",
        "        optimizer.zero_grad()\n",
        "        loss.backward()\n",
        "        optimizer.step()\n",
        "\n",
        "    model.eval()\n",
        "    with torch.no_grad():\n",
        "        val_loss = loss_fn(model(X_val), Y_val)\n",
        "        train_loss = loss_fn(model(X_train), Y_train)\n",
        "    val_losses.append(val_loss)\n",
        "    train_losses.append(train_loss)\n",
        "        # val_loss = sum(loss_fn(model(X_val), torch.tensor(y_val))) / len(y_val)\n",
        "    # print(f\"Epoch {epoch+1}, Validation Loss: {val_loss:.4f}\")"
      ]
    },
    {
      "cell_type": "code",
      "execution_count": 33,
      "id": "z86BxyBdwT42",
      "metadata": {
        "colab": {
          "base_uri": "https://localhost:8080/",
          "height": 505
        },
        "id": "z86BxyBdwT42",
        "outputId": "6101052d-7a1f-4afc-8f5a-3d93388263a9"
      },
      "outputs": [
        {
          "name": "stderr",
          "output_type": "stream",
          "text": [
            "C:\\Users\\tucol\\AppData\\Local\\Temp\\ipykernel_1704\\988218536.py:5: UserWarning: No artists with labels found to put in legend.  Note that artists whose label start with an underscore are ignored when legend() is called with no argument.\n",
            "  plt.legend()\n"
          ]
        },
        {
          "data": {
            "image/png": "[encoded data removed]",
            "text/plain": [
              "<Figure size 640x480 with 1 Axes>"
            ]
          },
          "metadata": {},
          "output_type": "display_data"
        }
      ],
      "source": [
        "plt.xlabel('Epoch')\n",
        "plt.ylabel('Loss')\n",
        "plt.xticks(np.linspace(0, num_epochs, 5))\n",
        "# plt.xticks(np.arange(0, num_epochs))\n",
        "plt.legend()\n",
        "plt.plot(val_losses, label=\"Validation Loss\")\n",
        "plt.plot(train_losses, label=\"Training Loss\")\n",
        "# plt.xlim(0, 10)\n",
        "plt.ylim(bottom=0)\n",
        "plt.show()"
      ]
    },
    {
      "cell_type": "markdown",
      "id": "42a50a9c",
      "metadata": {},
      "source": [
        "## Análise de Correlação entre as Colunas\n",
        "\n",
        "Nesta etapa, iremos explorar a correlação entre as diferentes colunas do conjunto de dados. A análise de correlação é uma ferramenta importante para identificar relações lineares entre variáveis, o que pode ajudar a entender quais atributos têm maior influência na variável alvo (`quality`). Essa análise também pode ser útil para identificar colunas redundantes ou altamente correlacionadas, que podem ser removidas ou tratadas para evitar multicolinearidade nos modelos."
      ]
    },
    {
      "cell_type": "code",
      "execution_count": 44,
      "id": "5QAWQzqW2UmA",
      "metadata": {
        "colab": {
          "base_uri": "https://localhost:8080/",
          "height": 742
        },
        "id": "5QAWQzqW2UmA",
        "outputId": "32f5ee9b-60ba-4cb2-8ea7-76e0d0630787"
      },
      "outputs": [
        {
          "name": "stdout",
          "output_type": "stream",
          "text": [
            "type                : 1.01\n",
            "fixed acidity       : 1.00\n",
            "volatile acidity    : 0.87\n",
            "citric acid         : 0.55\n",
            "residual sugar      : 0.18\n",
            "chlorides           : 0.38\n",
            "free sulfur dioxide : 0.22\n",
            "total sulfur dioxide: 0.48\n",
            "density             : 0.57\n",
            "pH                  : 1.25\n",
            "sulphates           : 0.65\n",
            "alcohol             : 0.87\n"
          ]
        }
      ],
      "source": [
        "inp_names = list(data.columns)[0:-1]\n",
        "inp_w_values = model.linear.weight.detach().numpy().reshape((len(inp_names),))\n",
        "for i in range(len(inp_names)):\n",
        "  print(f\"{inp_names[i]:20}: {inp_w_values[i]:.2f}\")"
      ]
    },
    {
      "cell_type": "code",
      "execution_count": 35,
      "id": "6pPt-hzT6Y7A",
      "metadata": {
        "colab": {
          "base_uri": "https://localhost:8080/"
        },
        "id": "6pPt-hzT6Y7A",
        "outputId": "f28f2acb-0d07-4ca2-a053-867902c76dad"
      },
      "outputs": [
        {
          "name": "stdout",
          "output_type": "stream",
          "text": [
            "Kendall's Tau: 0.18\n",
            "Loss: 0.75\n"
          ]
        },
        {
          "name": "stderr",
          "output_type": "stream",
          "text": [
            "C:\\Users\\tucol\\AppData\\Roaming\\Python\\Python312\\site-packages\\torch\\nn\\modules\\loss.py:128: UserWarning: Using a target size (torch.Size([1293])) that is different to the input size (torch.Size([1293, 1])). This will likely lead to incorrect results due to broadcasting. Please ensure they have the same size.\n",
            "  return F.l1_loss(input, target, reduction=self.reduction)\n"
          ]
        }
      ],
      "source": [
        "from scipy.stats import kendalltau\n",
        "\n",
        "y_pred = model(X_test)\n",
        "loss = loss_fn(y_pred, Y_test)\n",
        "\n",
        "# kendalltau é uma medida de correlação que compara a ordem relativa de cada par de pontos, desconsiderando a magnitude\n",
        "# ou seja, quanto melhor nossa predição manter a ordem dos ranques, maior o valor de tau\n",
        "tau, _ = kendalltau(y_test, y_pred.detach().numpy())\n",
        "print(f\"Kendall's Tau: {tau:.2f}\")\n",
        "print(f\"Loss: {loss:.2f}\")\n"
      ]
    },
    {
      "cell_type": "code",
      "execution_count": 36,
      "id": "lU-arYNMAAUF",
      "metadata": {
        "colab": {
          "base_uri": "https://localhost:8080/"
        },
        "id": "lU-arYNMAAUF",
        "outputId": "0fcb5d02-febe-445e-964a-06fc83bf8365"
      },
      "outputs": [
        {
          "data": {
            "text/plain": [
              "12"
            ]
          },
          "execution_count": 36,
          "metadata": {},
          "output_type": "execute_result"
        }
      ],
      "source": [
        "columns_to_drop = [\n",
        "    # total sulfur dioxide possui correlação grande com 'type' e com 'free sulfur dioxide'\n",
        "    # podemos então testar criar o modelo sem essa informação\n",
        "    \"total sulfur dioxide\"\n",
        "]\n",
        "\n",
        "x_test = x_test\n",
        "\n",
        "# Convert to PyTorch tensors\n",
        "X_train, Y_train = torch.tensor(x_train.values, dtype=torch.float32), torch.tensor(y_train.values, dtype=torch.float32)\n",
        "train_ds = TensorDataset(X_train, Y_train)\n",
        "\n",
        "X_val, Y_val = torch.tensor(x_val.values, dtype=torch.float32), torch.tensor(y_val.values, dtype=torch.float32)\n",
        "val_ds = TensorDataset(X_val, Y_val)\n",
        "\n",
        "X_test, Y_test = torch.tensor(x_test.values, dtype=torch.float32), torch.tensor(y_test.values, dtype=torch.float32)\n",
        "\n",
        "batch_size = 32\n",
        "train_loader = DataLoader(train_ds, batch_size=batch_size, shuffle=True)\n",
        "val_loader = DataLoader(val_ds, batch_size=batch_size, shuffle=False)\n",
        "\n",
        "n_features = X_val.shape[1]\n",
        "n_features"
      ]
    },
    {
      "cell_type": "markdown",
      "id": "bd8663a1",
      "metadata": {},
      "source": [
        "## Re-treinamento do Modelo\n",
        "\n",
        "Nesta etapa, realizaremos o re-treinamento do modelo utilizando os dados ajustados. O objetivo é verificar se a remoção de colunas altamente correlacionadas ou redundantes, como `total sulfur dioxide`, pode melhorar o desempenho do modelo. O processo de treinamento será semelhante ao anterior, com a mesma arquitetura de modelo, função de perda e otimizador, mas agora utilizando o conjunto de dados modificado."
      ]
    },
    {
      "cell_type": "code",
      "execution_count": 37,
      "id": "u4dh7ZhW8gZx",
      "metadata": {
        "colab": {
          "base_uri": "https://localhost:8080/"
        },
        "id": "u4dh7ZhW8gZx",
        "outputId": "8f15306f-e493-4bd4-a7e8-91a0e522e23c"
      },
      "outputs": [],
      "source": [
        "model = LinearRegression()\n",
        "loss_fn = get_loss_fn()\n",
        "optimizer = get_optimizer(model, lr=1e-3)\n",
        "\n",
        "num_epochs = 100\n",
        "\n",
        "val_losses = []\n",
        "train_losses = []\n",
        "\n",
        "for epoch in range(num_epochs):\n",
        "    model.train()\n",
        "    for X_batch, Y_batch in train_loader:\n",
        "        preds = model(X_batch)\n",
        "        loss = loss_fn(preds, Y_batch)\n",
        "\n",
        "        optimizer.zero_grad()\n",
        "        loss.backward()\n",
        "        optimizer.step()\n",
        "\n",
        "    model.eval()\n",
        "    with torch.no_grad():\n",
        "        val_loss = loss_fn(model(X_val), Y_val)\n",
        "        train_loss = loss_fn(model(X_train), Y_train)\n",
        "    val_losses.append(val_loss)\n",
        "    train_losses.append(train_loss)\n",
        "        # val_loss = sum(loss_fn(model(X_val), torch.tensor(y_val))) / len(y_val)\n",
        "    # print(f\"Epoch {epoch+1}, Validation Loss: {val_loss:.4f}\")"
      ]
    },
    {
      "cell_type": "code",
      "execution_count": 38,
      "id": "TuRlw0V7DJGp",
      "metadata": {
        "colab": {
          "base_uri": "https://localhost:8080/",
          "height": 505
        },
        "id": "TuRlw0V7DJGp",
        "outputId": "0d9c57a9-5750-434b-e195-60579ed11dd9"
      },
      "outputs": [
        {
          "name": "stderr",
          "output_type": "stream",
          "text": [
            "C:\\Users\\tucol\\AppData\\Local\\Temp\\ipykernel_1704\\988218536.py:5: UserWarning: No artists with labels found to put in legend.  Note that artists whose label start with an underscore are ignored when legend() is called with no argument.\n",
            "  plt.legend()\n"
          ]
        },
        {
          "data": {
            "image/png": "[encoded data removed]",
            "text/plain": [
              "<Figure size 640x480 with 1 Axes>"
            ]
          },
          "metadata": {},
          "output_type": "display_data"
        }
      ],
      "source": [
        "plt.xlabel('Epoch')\n",
        "plt.ylabel('Loss')\n",
        "plt.xticks(np.linspace(0, num_epochs, 5))\n",
        "# plt.xticks(np.arange(0, num_epochs))\n",
        "plt.legend()\n",
        "plt.plot(val_losses, label=\"Validation Loss\")\n",
        "plt.plot(train_losses, label=\"Training Loss\")\n",
        "# plt.xlim(0, 10)\n",
        "plt.ylim(bottom=0)\n",
        "plt.show()"
      ]
    },
    {
      "cell_type": "code",
      "execution_count": 39,
      "id": "P9B42tgkDMTI",
      "metadata": {
        "colab": {
          "base_uri": "https://localhost:8080/"
        },
        "id": "P9B42tgkDMTI",
        "outputId": "c406a549-df0b-4851-a93e-1adab9c276e7"
      },
      "outputs": [
        {
          "name": "stdout",
          "output_type": "stream",
          "text": [
            "Kendall's Tau: 0.19\n",
            "Loss: 0.75\n"
          ]
        }
      ],
      "source": [
        "from scipy.stats import kendalltau\n",
        "\n",
        "y_pred = model(X_test)\n",
        "loss = loss_fn(y_pred, Y_test)\n",
        "\n",
        "# kendalltau é uma medida de correlação que compara a ordem relativa de cada par de pontos, desconsiderando a magnitude\n",
        "# ou seja, quanto melhor nossa predição manter a ordem dos ranques, maior o valor de tau\n",
        "tau, _ = kendalltau(y_test, y_pred.detach().numpy())\n",
        "print(f\"Kendall's Tau: {tau:.2f}\")\n",
        "print(f\"Loss: {loss:.2f}\")\n"
      ]
    },
    {
      "cell_type": "code",
      "execution_count": 40,
      "id": "-5ApNx_0DP68",
      "metadata": {
        "id": "-5ApNx_0DP68"
      },
      "outputs": [
        {
          "name": "stdout",
          "output_type": "stream",
          "text": [
            "Erro Médio Absoluto (MAE): 0.68\n"
          ]
        }
      ],
      "source": [
        "## Calcular o erro médio absoluto (MAE) \n",
        "from sklearn.metrics import mean_absolute_error\n",
        "\n",
        "# Calcular o erro médio absoluto\n",
        "mae = mean_absolute_error(Y_test.numpy(), y_pred.detach().numpy())\n",
        "print(f\"Erro Médio Absoluto (MAE): {mae:.2f}\")"
      ]
    },
    {
      "cell_type": "code",
      "execution_count": 41,
      "id": "58688275",
      "metadata": {},
      "outputs": [
        {
          "name": "stdout",
          "output_type": "stream",
          "text": [
            "Erro Médio Absoluto (MAE) do modelo: 0.68\n",
            "Erro Médio Absoluto (MAE) do preditor trivial: 0.71\n"
          ]
        }
      ],
      "source": [
        "# Preditor trivial: atribuir o valor médio de 'quality' como predição\n",
        "mean_quality = y_train.mean()\n",
        "trivial_preds = torch.full_like(Y_test, mean_quality, dtype=torch.float32)\n",
        "\n",
        "# Calcular o erro médio absoluto (MAE) do preditor trivial\n",
        "trivial_mae = mean_absolute_error(Y_test.numpy(), trivial_preds.numpy())\n",
        "\n",
        "# Exibir os resultados\n",
        "print(f\"Erro Médio Absoluto (MAE) do modelo: {mae:.2f}\")\n",
        "print(f\"Erro Médio Absoluto (MAE) do preditor trivial: {trivial_mae:.2f}\")"
      ]
    },
    {
      "cell_type": "code",
      "execution_count": 42,
      "id": "48313b3d",
      "metadata": {},
      "outputs": [
        {
          "name": "stdout",
          "output_type": "stream",
          "text": [
            "Acurácia do modelo: 44.01%\n",
            "Acurácia do preditor trivial: 41.76%\n",
            "Acurácia do preditor aleatório: 17.71%\n"
          ]
        }
      ],
      "source": [
        "# Calcular a acurácia do modelo\n",
        "y_pred_classes = torch.round(y_pred).squeeze()  # Arredondar as predições para o inteiro mais próximo\n",
        "model_accuracy = (y_pred_classes == Y_test).float().mean().item() * 100\n",
        "\n",
        "# Calcular a acurácia do preditor trivial\n",
        "trivial_accuracy = (torch.round(trivial_preds) == Y_test).float().mean().item() * 100\n",
        "\n",
        "# Calcular a acurácia do preditor aleatório\n",
        "random_preds = torch.randint(1, 8, Y_test.shape)  # Gerar predições aleatórias entre 1 e 7\n",
        "random_accuracy = (random_preds == Y_test).float().mean().item() * 100\n",
        "\n",
        "# Exibir os resultados\n",
        "print(f\"Acurácia do modelo: {model_accuracy:.2f}%\")\n",
        "print(f\"Acurácia do preditor trivial: {trivial_accuracy:.2f}%\")\n",
        "print(f\"Acurácia do preditor aleatório: {random_accuracy:.2f}%\")"
      ]
    },
    {
      "cell_type": "code",
      "execution_count": 43,
      "id": "3f8ba4e3",
      "metadata": {},
      "outputs": [
        {
          "name": "stdout",
          "output_type": "stream",
          "text": [
            "Correlação entre saída desejada e obtida: 0.23\n"
          ]
        }
      ],
      "source": [
        "# Calcular a correlação entre a saída desejada (Y_test) e a saída obtida (y_pred)\n",
        "correlation = np.corrcoef(Y_test.numpy(), y_pred.detach().numpy().flatten())[0, 1]\n",
        "\n",
        "# Exibir o resultado\n",
        "print(f\"Correlação entre saída desejada e obtida: {correlation:.2f}\")"
      ]
    }
  ],
  "metadata": {
    "colab": {
      "provenance": []
    },
    "kernelspec": {
      "display_name": "Python 3",
      "language": "python",
      "name": "python3"
    },
    "language_info": {
      "codemirror_mode": {
        "name": "ipython",
        "version": 3
      },
      "file_extension": ".py",
      "mimetype": "text/x-python",
      "name": "python",
      "nbconvert_exporter": "python",
      "pygments_lexer": "ipython3",
      "version": "3.12.6"
    }
  },
  "nbformat": 4,
  "nbformat_minor": 5
}
