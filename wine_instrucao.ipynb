{
 "cells": [
  {
   "cell_type": "markdown",
   "id": "98941bae",
   "metadata": {
    "origin_pos": 1
   },
   "source": [
    "# Trabalho Computacional 1. Regressão Linear na qualidade de vinho. \n",
    "\n",
    "## 1. Introdução\n",
    "\n",
    "Está fornecido um arquivo csv (valores separados por vírgula) contendo características químicas de amostra de vinho, e sua qualidade avaliada por especialistas, em uma escala de 1 a 7. Seu objetivo é avaliar um sistema de regressão linear sobre este problema. \n",
    "\n",
    "Os módulos, classes e definições contidas aqui devem ser vistas como sugestão. Desde que você use Python, apresente seu trabalho como um notebook e responda às perguntas, os requisitos estão satisfeitos. Eu também não tenho objeções ao uso de código encontrado na internet ou via chatGPT, mas use-os por sua conta e risco. \n",
    "\n",
    "## 2. Classes e Métodos\n",
    "\n",
    "Com estes módulos, classes e métodos que se seguem, o laço principal de treinamento fica muito simples. Lembre-se de ativar o d2l antes de invocar o notebook. Estou usando também o módulo sklearn para a divisão do arquivo em treinamento e validação (como não haverá seleção de modelo e nem ajuste de hiperparâmetros, ele faz o papel de conjunto de teste também). É preciso instalá-lo com `pip install sklearn` no terminal."
   ]
  },
  {
   "cell_type": "code",
   "execution_count": 1,
   "id": "a9b6d94b",
   "metadata": {
    "origin_pos": 2,
    "tab": [
     "tensorflow"
    ]
   },
   "outputs": [],
   "source": [
    "import pandas as pd\n",
    "import torch\n",
    "import numpy as np\n",
    "from d2l import torch as d2l\n",
    "from sklearn.model_selection import train_test_split"
   ]
  },
  {
   "cell_type": "code",
   "execution_count": 2,
   "id": "61d6f006-3fc5-4fc4-88d8-1b3789040c06",
   "metadata": {},
   "outputs": [],
   "source": [
    "class LinearRegression(d2l.Module):  #@save\n",
    "    \"\"\"The linear regression model implemented with high-level APIs.\"\"\"\n",
    "    def __init__(self, lr):\n",
    "        super().__init__()\n",
    "        self.save_hyperparameters()\n",
    "        self.net = torch.nn.LazyLinear(1)\n",
    "        self.net.weight.data.normal_(0, 0.01)\n",
    "        self.net.bias.data.fill_(0)"
   ]
  },
  {
   "cell_type": "code",
   "execution_count": 3,
   "id": "c6ddaa60-e4c6-4deb-85e5-ec471af47e75",
   "metadata": {},
   "outputs": [],
   "source": [
    "class LinearRegressionData(d2l.DataModule):  #@save\n",
    "    \"\"\"Data for linear regression.\"\"\"\n",
    "    def __init__(self, nInputs,data,num_train, num_val,\n",
    "                 batch_size=32):\n",
    "        super().__init__()\n",
    "        self.save_hyperparameters()\n",
    "        self.X=data[:,0:nInputs]\n",
    "        self.y=data[:,nInputs]"
   ]
  },
  {
   "cell_type": "code",
   "execution_count": 4,
   "id": "5075ad79-5f7f-497c-8061-043a2a102f5d",
   "metadata": {},
   "outputs": [],
   "source": [
    "@d2l.add_to_class(d2l.DataModule)  #@save\n",
    "def get_tensorloader(self, tensors, train, indices=slice(0, None)):\n",
    "    tensors = tuple(a[indices] for a in tensors)\n",
    "    dataset = torch.utils.data.TensorDataset(*tensors)\n",
    "    return torch.utils.data.DataLoader(dataset, self.batch_size,\n",
    "                                       shuffle=train)\n",
    "\n",
    "@d2l.add_to_class(LinearRegressionData)  #@save\n",
    "def get_dataloader(self, train):\n",
    "    i = slice(0, self.num_train) if train else slice(self.num_train, None)\n",
    "    return self.get_tensorloader((self.X, self.y), train, i)"
   ]
  },
  {
   "cell_type": "markdown",
   "id": "2ea90d84-432d-4c1b-8386-d16b100db074",
   "metadata": {},
   "source": [
    "## 3.  Leitura do Arquivo e Pré-processamento"
   ]
  },
  {
   "cell_type": "markdown",
   "id": "bd99f710",
   "metadata": {
    "origin_pos": 5
   },
   "source": [
    "Existem 12 variáveis de entrada e 1 alvo. A primeira coluna é uma literal \"white\" ou \"red\" . Com a criação da variável dummy, teremos 13 entradas. Há 6497 exemplos, e eles não são equilibrados (há mais brancos que tintos, e mais vinhos de boa qualidade que de má qualidade). \n",
    "__Há dados faltantes.__\n",
    "\n",
    "       white  |   red | fixed acidity | volatile acidity | citric acid  \\\n",
    "0      True     False  |     7.0       |     0.270   |     0.36   \n",
    "1      True     False        6.3             0.300         0.34   \n",
    "2      Tru   e  False     8  8.1             0.280         0.40   \n",
    "3      Tr   ue  False        7.2             0.230         0.32   \n",
    "4      T   rul  False        7.2             0.230         0.32   \n",
    "...     ...    ...            ...               ...          ...   \n",
    "6492  False   True            6.2             0.600        0.08   \n",
    "6493  False   True            5.9             0.550        0.10   \n",
    "6494  False   True            6.3             0.51         0.13   \n",
    "6495  False   True            5.9             0.65         0.12   \n",
    "6496  False   True            6.0             0.10         0.47   \n",
    "\n",
    "      residual sugar  chlorides  free sulfur dioxide  total sulfur dioxide  \\\n",
    "0               20.7      0.045                 45.0                 170.0   \n",
    "1                1.6      0.049                 14.0                 132.0   \n",
    "2                6.9      0.050                 30.0                  97.0   \n",
    "3                8.5      0.058                 47.0                 186.0   \n",
    "4                8.5      0.058                 47.0                 186.0   \n",
    "...              ...        ...                  ...                   ...   \n",
    "6492             2.0      0.090                 32.0                  44.0   \n",
    "6493             2.2      0.062                 39.0                  51.0   \n",
    "6494             2.3      0.076                 29.0                  40.0   \n",
    "6495             2.0      0.075                 32.0                  44.0   \n",
    "6496             3.6      0.067                 18.0                  42.0   \n",
    "\n",
    "      density    pH  sulphates  alcohol  quality  \n",
    "0     1.00100  3.00   0.450000      8.8        6  \n",
    "1     0.99400  3.30   0.490000      9.5        6  \n",
    "2     0.99510  3.26   0.440000     10.1        6  \n",
    "3     0.99560  3.19   0.400000      9.9        6  \n",
    "4     0.99560  3.19   0.400000      9.9        6  \n",
    "...       ...   ...        ...      ...      ...  \n",
    "6492  0.99490  3.45   0.580000     10.5        5  \n",
    "6493  0.99512  3.52   0.531215     11.2        6  \n",
    "6494  0.99574  3.42   0.750000     11.0        6  \n",
    "6495  0.99547  3.57   0.710000     10.2        5  \n",
    "6496  0.99549  3.39   0.660000     11.0        6  \n",
    "\n",
    "[6497 rows x 14 columns]"
   ]
  },
  {
   "cell_type": "markdown",
   "id": "da317ced-bf0f-4feb-a9da-770467f4183f",
   "metadata": {},
   "source": [
    "Você deve ainda usar a função `train_test_split` (ou outra) para separar os exemplos nos conjuntos de treinamento e de validação. Sugiro 20% para a validação. "
   ]
  },
  {
   "cell_type": "code",
   "execution_count": 6,
   "id": "fec2ea74-1584-43b5-867f-4f85302357cd",
   "metadata": {},
   "outputs": [
    {
     "data": {
      "text/plain": [
       "((5197, 14), (1300, 14))"
      ]
     },
     "execution_count": 6,
     "metadata": {},
     "output_type": "execute_result"
    }
   ],
   "source": [
    "train_data, val_data = train_test_split(data, test_size=0.2)\n",
    "train_data.shape, val_data.shape\n"
   ]
  },
  {
   "cell_type": "markdown",
   "id": "0196d849",
   "metadata": {
    "origin_pos": 9
   },
   "source": [
    "Finalmente, lembre-se que a função `pd.read_csv` cria um dataframe, não uma matriz. Verifique como transformar em uma matriz, que deve conter todos os exemplos de treinamento e em seguida todos os exemplos de teste. Sua dimensão final será 6497 por 14."
   ]
  },
  {
   "cell_type": "markdown",
   "id": "d5dc60b3-a45f-4131-9beb-c064fefcedd9",
   "metadata": {},
   "source": [
    "# Métodos para treinamento\n",
    "\n",
    "Estes métodos definem como se dá o passo à frente (processamento da rede), qual a função de custo e otimizador."
   ]
  },
  {
   "cell_type": "code",
   "execution_count": null,
   "id": "ad49248d-8639-4afb-9879-03ac2f256404",
   "metadata": {},
   "outputs": [],
   "source": [
    "@d2l.add_to_class(LinearRegression)  #@save\n",
    "def forward(self, X):\n",
    "    return self.net(X)"
   ]
  },
  {
   "cell_type": "code",
   "execution_count": null,
   "id": "c4e5f17e-4b41-448d-a2a9-1f0ce4d169e3",
   "metadata": {},
   "outputs": [],
   "source": [
    "@d2l.add_to_class(LinearRegression)  #@save\n",
    "def loss(self, y_hat, y):\n",
    "    fn = torch.nn.MSELoss()\n",
    "    return fn(y_hat, y)"
   ]
  },
  {
   "cell_type": "code",
   "execution_count": null,
   "id": "b633adae-8065-49ea-ab50-ceb857fb33b3",
   "metadata": {},
   "outputs": [],
   "source": [
    "@d2l.add_to_class(LinearRegression)  #@save\n",
    "def configure_optimizers(self):\n",
    "    return torch.optim.SGD(self.parameters(), self.lr)"
   ]
  },
  {
   "cell_type": "markdown",
   "id": "d98368fa-acbb-44da-a18a-aaecf2a19f8f",
   "metadata": {},
   "source": [
    "## 4. Treinamento\n",
    "\n",
    "Com esses passos, o laço de treinamento é bem simples. Veja o exemplo visto em sala. \n",
    "ATENÇÂO: Os dados têm variância (escala) desigual e relativamente grande. Como nada limita a saída da rede, uma taxa de aprendizado alta leva facilmente à divergência. Se o gráfico do erro fica em branco ou o treinamento leva tempo demais, este é provavelmente o caso. Diminua a taxa para algo em torno de 10^-5 ."
   ]
  },
  {
   "cell_type": "markdown",
   "id": "04f086cf-4d4b-4e1c-bb20-24cc0a399683",
   "metadata": {},
   "source": [
    "## 5. Avaliações e análise\n",
    "\n",
    "Terminado o treinamento, houve (espera-se) uma minimização do erro quadrático médio. Mas outras medidas de desempenho podem ser usadas. \n",
    "\n",
    "Para avaliar o modelo, pode ser útil invocar o método especial `__call__` do seu objeto modelo: \n",
    "\n",
    "`prediction=model(inputs)`\n",
    "\n",
    "Supondo que você instanciou seu modelo como `model`. Para fazer operações (cálculo de médias e erros), pode ser necessário mudar (reshape) algum tensor. Lembre-se de usar os dados de VALIDAÇÃO. Uma média de vários treinamentos com condições iniciais (e partições da base dados) diferentes nos dá um resultado mais confiável. \n",
    "\n",
    "### 5.1. Erro absoluto médio e Preditor Trivial\n",
    "\n",
    "Qual o erro absoluto médio do seu preditor? Como a categoria é dada por inteiros de 1 a 7, esperamos, no mínimo, um erro menor do que 1, ou o sistema frequentemente erraria por mais de uma categoria. \n",
    "\n",
    "Por vezes queremos saber se, depois de todo este trabalho temos algo superior a um preditor trivial ou ingênuo. O preditor trivial atribui como saída a média da função que se quer prever. \n",
    "\n",
    "Compare os erros absolutos médios. O seu regressor é melhor do que uma simples média da saída?\n",
    "\n",
    "__Atenção__: Este problema é fortemente não-linear, e fizemos pouco pré-processamento com os dados. Não se espera um bom desempenho com este primeiro modelo simples. Ele deve ser melhor que o preditor trivial, mas não por muito. \n",
    "\n",
    "### 5.2. Classificação por arredondamento\n",
    "\n",
    "Como a classificação é um índice inteiro, podemos pensar neste caso como um problema de classificação em 7 classes, e não de regressão. Veremos ferramentas mais indicadas para esta classe de problemas, mas uma solução trivial seria arredondar a saída do preditor e verificar quantas classes acertamos. \n",
    "\n",
    "Compare a taxa de acerto (vamos chamar isso acurácia mais à frente) contra o preditor-classificador trivial (a média das classificações está próxima a 6). Um preditor aleatório (que atribui um número de 1 a 7 aleatoriamente) deveria ter uma taxa de acerto de 14%.\n",
    "\n",
    "__Atenção__, de novo, você deve estar acima do preditor trivial, mas não por muito, e bem acima dos 14%. \n",
    "\n",
    "### 5.3. Correlação\n",
    "\n",
    "Outra medida interessante para saber o quanto nosso preditor absorveu a informação contida no arquivo de dados é a __correlação__ entre saída desejada e obtida. Este é um número de -1 a 1, -1 indicando uma relação determinística negativa (quando a saída do preditor é baixa, o especialista deu nota alta e vice_versa), 0 é ausência de correlação (a saída de um não nos permite dizer nada sobre o outro) e +1 significa que o preditor substitui o especialista sem qualquer erro. Gostaríamos, é claro, de um valor próximo a 1. Observe que o preditor aleatório e também o trivial têm correlação zero com a saída desejada. \n",
    "\n",
    "### 5.4. Melhoramentos (extra)\n",
    "\n",
    "Não se espera mesmo um bom desempenho neste caso, mas algumas coisas podem ajudar. Não são requisitos para o trabalho, mas serão considerados pontos extra. \n",
    "\n",
    "* Variações no número de épocas, tamanho do \"minibatch\", taxas de aprendizado.\n",
    "* Normalização das entradas (para que tenham média zero e desvio-padrão 1).\n",
    "* (mais difícil) Uma análise estatística que elimine variáveis pouco informativas, ou proponha uma combinação linear mais informativa de algumas variáveis.\n",
    "\n",
    "### 5.5. Uma provocação\n",
    "\n",
    "É verdade que este sistema, baseado apenas em regressão linear, não tem um desempenho excelente. Mas, já podemos fazer uma reflexão. Trabalhos publicados com esta base de dados têm acurácia de 85% na classificação. Um sistema como este nível de desempenho, treinado com modelos mais complexos e as técnicas de aprendizado não muito diferentes da que usamos aqui, é \"realmente inteligente\"? Ele \"realmente aprendeu\" a classificar vinhos? \n",
    "\n",
    "  \n",
    "\n"
   ]
  }
 ],
 "metadata": {
  "kernelspec": {
   "display_name": "Python 3",
   "language": "python",
   "name": "python3"
  },
  "language_info": {
   "codemirror_mode": {
    "name": "ipython",
    "version": 3
   },
   "file_extension": ".py",
   "mimetype": "text/x-python",
   "name": "python",
   "nbconvert_exporter": "python",
   "pygments_lexer": "ipython3",
   "version": "3.11.0"
  },
  "required_libs": []
 },
 "nbformat": 4,
 "nbformat_minor": 5
}
